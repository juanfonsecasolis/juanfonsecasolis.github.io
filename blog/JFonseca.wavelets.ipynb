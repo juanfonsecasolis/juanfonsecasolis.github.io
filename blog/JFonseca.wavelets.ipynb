{
 "cells": [
  {
   "cell_type": "markdown",
   "metadata": {},
   "source": [
    "# Desmistificando la transformada de ondeletas\n",
    "\n",
    "<a href=\"https://juanfonsecasolis.github.io/\">Juan M. Fonseca-Solís</a> · Febrero 2021 · 5 min read\n",
    "\n",
    "---\n",
    "\n",
    "## Resumen\n",
    "\n",
    "La transformada de ondeletas (o _wavelets_ como se conocen en inglés) es una herramienta de análisis de señales que fue concevida como alternativa a la transformada de fourier de corto plazo para resolver el problema del principio de incertidumbre de Heinserberg. Aplicado a procesamiento de señales, este principio estipula que al obtener mayor resolución frecuencial se obtiene menor resolución temporal, y vicerversa, lo cual es un problema para analizar señales con contenido espectral desconocido o cuando hay mezcladas frecuencias muy altas y muy bajas. También queremos saber qué pasa cuando se analizan señales semilares a una ondeleta (por ejemplo, la del sombrero mejicano). Amplia literatura se encuentra sobre el tema, pero queremos convencernos por nosotros mismos de la eficacia de este método. En este ipython notebook estudiamos un ejemplo usando la transformada de ondeletas undecimada o UWT (por sus siglas en inglés) para analizar un barrido de frecuencias en el tiempo, una señal difícil de analizar. Los resultas aún están por definirse..."
   ]
  },
  {
   "cell_type": "markdown",
   "metadata": {},
   "source": [
    "# Introducción\n",
    "Lorem ipsum...\n",
    "\n",
    "# Desarrollo\n",
    "Lorem ipsum...\n",
    "\n",
    "# Conclusiones\n",
    "Lorem ipsum..."
   ]
  },
  {
   "cell_type": "markdown",
   "metadata": {},
   "source": [
    "---\n",
    "<a rel=\"license\" href=\"http://creativecommons.org/licenses/by-nc-nd/4.0/\"><img alt=\"Licencia de Creative Commons\" style=\"border-width:0\" src=\"https://i.creativecommons.org/l/by-nc-nd/4.0/88x31.png\" /></a><br/>Este obra está bajo una <a rel=\"license\" href=\"http://creativecommons.org/licenses/by-nc-nd/4.0/\">licencia de Creative Commons Reconocimiento-NoComercial-SinObraDerivada 4.0 Internacional</a>. El sitio [juanfonsecasolis.github.io](https://juanfonsecasolis.github.io) es un blog dedicado a la investigación independiente en temas relacionados al procesamiento digital de señales. Para reutilizar este artículo y citar las fuente por favor utilice el siguiente Bibtex:\n",
    "\n",
    "```\n",
    "@online{Fonseca2021,\n",
    "  author = {Juan M. Fonseca-Solís},\n",
    "  title = { Desmistificando la transformada de ondeletas},\n",
    "  year = 2021,\n",
    "  url = {https://juanfonsecasolis.github.io/blog/JFonseca.wavelets.html},\n",
    "  urldate = {}\n",
    "}\n",
    "```"
   ]
  }
 ],
 "metadata": {
  "kernelspec": {
   "display_name": "Python 3",
   "language": "python",
   "name": "python3"
  },
  "language_info": {
   "codemirror_mode": {
    "name": "ipython",
    "version": 3
   },
   "file_extension": ".py",
   "mimetype": "text/x-python",
   "name": "python",
   "nbconvert_exporter": "python",
   "pygments_lexer": "ipython3",
   "version": "3.8.5"
  }
 },
 "nbformat": 4,
 "nbformat_minor": 4
}
