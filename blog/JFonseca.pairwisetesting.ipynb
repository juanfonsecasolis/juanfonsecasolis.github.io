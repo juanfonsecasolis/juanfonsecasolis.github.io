{
 "cells": [
  {
   "cell_type": "markdown",
   "metadata": {},
   "source": [
    "# Pruebas por pares\n",
    "\n",
    "[Juan M. Fonseca-Solís](https://juanfonsecasolis.github.io) · Setiembre 2020 · 5 min read\n",
    "\n",
    "---\n",
    "\n",
    "## Resumen\n",
    "A diferencia del resto de escritos en este blog, el presente ipython notebook no contiene ningún componente original. Pretendemos simplemente rescatar la descripción matemática de una técnica de estimación de casos de prueba llamada _pruebas por pares_ que, como su nombre lo indica, permite probar pares de parámetros en lugar de hacer una combinación exhaustiva $\\prod{n_i}$, lo cual representa un ahorro de tiempo significativo, pues, el órden de duración de las pruebas se vuelve $O(op)$, siendo $o,p \\in \\{n_i\\}$ los dos parámetros con más valores en el sistema.\n",
    "\n",
    "\n",
    "## Introducción\n",
    "\n",
    "Premisas del método:\n",
    "* **Premisa 1:** las pulgas más comunes en un programa son producidas en la mayoría de las veces por un solo parámetro o la interacción entre dos de ellos [1].\n",
    "* **Premisa 2:** las pulgas que involucran tres o más parámetros son progresivamente menos comunes y costozas de encontrar [1]. \n",
    "\n",
    "Tenemos que el espacio vectorial generado por un sistema de N parámetros es $\\{P_1, P_2, \\ldots, P_N\\} \\subset \\mathbb{C}^{\\max\\{\\lvert{R_i}\\rvert\\}}$, donde $R(P_i) = R_i$ es denominado el rango de un parámetro, es decir, el conjunto de valores que puede tomar, y $\\lvert{R_i}\\rvert=n_i$ es el número de valores posibles para ese parámetros (la cardinalidad del conjunto) [1]. Un ejemplo sería el parámetro \"interruptor $P_0$\", donde $R_0 = \\{\\text{encendido}, \\text{apagado}\\}$ y $\\lvert{R_0}\\rvert=2$. Si tuviesemos N interuptores, entonces el conjunto $\\{R_1, R_2, \\ldots, R_N\\}$ sería $\\{\\text{encendido}, \\text{apagado}\\, \\text{encendido}, \\text{apagado}\\, \\ldots}$, por eso se dice que este es un multiconjunto o _multiset_, porque permite elementos repetidos [3].\n",
    "\n",
    "La combinación exhaustiva de todos los valores del sistema es: $\\prod{n_i} = \\prod{\\lvert{R_i}\\rvert}=\\prod{\\lvert{R(P_i)}\\rvert}=\\prod{\\lvert{R(\\{P_1, P_2, \\ldots, P_N\\})}\\rvert}$, si estos parámetros fueran columnas en una matriz, entonces el espacio generado se conocería como el rango o imágen de la matriz, es decir, es el conjunto de todas las posibles combinaciones lineales de los vectores columna [2].\n",
    "\n",
    "Haciendo $X=\\{n_i\\}$, tenemos que el número de casos de prueba $T$ sería [1]:\n",
    "$$\n",
    "T = \\max\\{X\\} \\max\\{X/\\max\\{X\\}\\},\n",
    "$$\n",
    "\n",
    "en otras palabras, la combinación de los rangos de los dos parámetros con más valores posibles. \n",
    "\n",
    "Con base en este formalizmo matemático, es posible resumir la técnica de pruebas de pares como:\n",
    "1. Identificar todos los parámetros del sistema.\n",
    "2. Listar el número posible de valores para cada parámetro.\n",
    "3. Tomar los dos parámetros cuyo $\\lvert{R_i}\\rvert$ sea el mayor, y realizar una combinación completa de ambos.\n",
    "4. Completar el resto de columnas usando valores de otros parámetros."
   ]
  },
  {
   "cell_type": "markdown",
   "metadata": {},
   "source": [
    "## Ejemplo práctico\n",
    "Veamos un ejemplo con $P_1 = \\{T,F\\}$, $P_2 = \\{1,2,3\\}$, $P_3 = \\{a,b,c,d\\}$ y $P_4 = \\{x,y\\}$:\n",
    "\n",
    "|    | Valor 1 | Valor 2 | Valor 3 | Valor 4 | $\\lvert{R_i}\\rvert$ |\n",
    "|----|--------|--------|--------|--------|---------------------|\n",
    "| $P_1$ | T      | F      | -      | -      | 2                   |\n",
    "| $P_2$ | 1      | 2      | 3      | -      | 3                   |\n",
    "| $P_3$ | a      | b      | c      | d      | 4                   |\n",
    "| $P_4$ | x      | y      | -      | -      | 2                   |\n",
    "\n",
    "Luego, los parámetros con más valores serían $P_3$ y $P_2$, y la multiplicación de las cardinalidades de sus conjunto de valores sería:\n",
    "\n",
    "$$\n",
    "\\max\\{X\\} \\max\\{X/\\max\\{X\\}\\} = 4 \\cdot 3 = 12.\n",
    "$$\n",
    "\n",
    "Con esto, podemos armar una tabla de combinaciones truncada como sigue:\n",
    "\n",
    "|    | $P_1$ | $P_2$ | $P_3$ | $P_4$ |\n",
    "|----|-------|-------|-------|-------|\n",
    "| CP-1  | a     | 1     | T     | x     |\n",
    "| CP-2  | b     | 2     | F     | y     |\n",
    "| CP-3  | c     | 3     | T     | x     |\n",
    "| CP-4  | d     | 1     | F     | y     |\n",
    "| CP-5  | a     | 2     | T     | x     |\n",
    "| CP-6  | b     | 3     | F     | z     |\n",
    "| CP-7  | c     | 1     | T     | x     |\n",
    "| CP-8  | d     | 2     | F     | z     |\n",
    "| CP-9  | a     | 3     | T     | x     |\n",
    "| CP-10 | b     | 1     | F     | z     |\n",
    "| CP-11 | c     | 2     | T     | x     |\n",
    "| CP-12 | d     | 3     | F     | z     |\n",
    "\n",
    "Si hubiesemos hecho la combinación completa de todos los valores, esto nos habría tomado $\\prod\\{n_i\\}=4 \\cdot 3 \\cdot 2 \\cdot 3 = 48$ casos de prueba, lo cual representa un esfuerzo considerable de tiempo."
   ]
  },
  {
   "cell_type": "markdown",
   "metadata": {},
   "source": [
    "# Evaluación usando una herramienta automatizada\n",
    "\n",
    "Podemos evaluar la calidad de nuestro razonamiento usando la herramienta PICT, de Microsoft [4], disponible en el sitio [https://pairwise.yuuniworks.com](https://pairwise.yuuniworks.com).\n",
    "\n",
    "Entrada:\n",
    "```\n",
    "P1: T,F\n",
    "P2: 1,2,3\n",
    "P3: a,b,c,d\n",
    "P4: x,y\n",
    "```\n",
    "\n",
    "Salida:\n",
    "```\n",
    "P1\tP2\tP3\tP4\n",
    "T\t2\tc\ty\n",
    "T\t3\ta\tx\n",
    "F\t1\tc\tx\n",
    "F\t2\ta\ty\n",
    "T\t1\tb\ty\n",
    "F\t3\tc\ty\n",
    "F\t3\tb\tx\n",
    "F\t2\td\tx\n",
    "T\t1\ta\ty\n",
    "T\t3\td\ty\n",
    "T\t1\td\ty\n",
    "F\t2\tb\tx\n",
    "```\n",
    "\n",
    "Lo cual corresponde en efecto, a los 12 CP que calculamos."
   ]
  },
  {
   "cell_type": "markdown",
   "metadata": {},
   "source": [
    "# Conclusiones\n",
    "\n",
    "La técnica de las pruebas por pares permite estimar casos de prueba identificando los dos parámetros del sistema con más valores posibles, generando menos combinaciones que un cruce exhaustivo, pero sin representar una desventaja al respetar el principio de que las pulgas que involucran más de dos parámetros son raras. Existen herramientas como el PICT de Microsoft que permiten automatizar el proceso de generación de casos de prueba, haciendo que esta técnica sea fácil de usar."
   ]
  },
  {
   "cell_type": "markdown",
   "metadata": {},
   "source": [
    "# Referencias:\n",
    "1. Wikipedia contributors. (2020, July 8). All-pairs testing. In Wikipedia, The Free Encyclopedia. Retrieved 20:09, September 6, 2020, from https://en.wikipedia.org/w/index.php?title=All-pairs_testing&oldid=966710808.\n",
    "2. S. Grossman. Algebra Lineal. Mc Graw Hill.\n",
    "3. Multiconjunto. (2019, 11 de octubre). Wikipedia, La enciclopedia libre. Fecha de consulta: 20:31, septiembre 6, 2020 desde https://es.wikipedia.org/w/index.php?title=Multiconjunto&oldid=120189103. \n",
    "4. J McCaffrey. Test Run - Pairwise Testing with QICT. Volume 24 Number 12. Dec 2009. URL: https://docs.microsoft.com/en-us/archive/msdn-magazine/2009/december/test-run-pairwise-testing-with-qict"
   ]
  }
 ],
 "metadata": {
  "kernelspec": {
   "display_name": "Python 3",
   "language": "python",
   "name": "python3"
  },
  "language_info": {
   "codemirror_mode": {
    "name": "ipython",
    "version": 3
   },
   "file_extension": ".py",
   "mimetype": "text/x-python",
   "name": "python",
   "nbconvert_exporter": "python",
   "pygments_lexer": "ipython3",
   "version": "3.8.2"
  }
 },
 "nbformat": 4,
 "nbformat_minor": 4
}
