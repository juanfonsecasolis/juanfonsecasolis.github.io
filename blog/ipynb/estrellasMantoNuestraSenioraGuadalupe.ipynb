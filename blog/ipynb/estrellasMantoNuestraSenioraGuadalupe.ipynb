{
 "cells": [
  {
   "cell_type": "markdown",
   "id": "fe006c80-7f85-457c-b977-69d343aeab89",
   "metadata": {},
   "source": [
    "# Estrellas en el manto de Nuestra Señora de Guadalupe\n",
    "\n",
    "<a href=\"https://juanfonsecasolis.github.io/\">Juan M. Fonseca-Solís</a> · Julio-Octubre 2025 · lectura de 15 min\n",
    "\n",
    "---\n",
    "\n",
    "## Resumen\n",
    "\n",
    "En este ipython notebook estudiamos el problema planteado por varios investigadores de determinar si las cuarenta y seis estrellas del manto celeste de la Virgen de Guadalupe son constelaciones reales y si corresponden con aquellas visibles en el cielo de la Ciudad de México al momento de la impregnación. Este es un problema interesante de abordar, entre otras razones, porque permite aplicar teoría de espacios vectoriales, astronomía, así como conceptos de probabilidad y estadística. En 2022, el Instituto de Estudios Guadalupanos de Mérida (ISEG) determinó que existe una correlación del 97,75% con doce de las constelaciones visibles en aquel momento."
   ]
  },
  {
   "cell_type": "markdown",
   "id": "e55271b9-f0d1-4a46-983d-7ab8015bb631",
   "metadata": {},
   "source": [
    "## Introducción al evento Guadalupano\n",
    "\n",
    "### Armonía iconográfica y musical\n",
    "\n",
    "Para comprender por qué se ha planteado que el manto de Nuestra Señora de Guadalupe contiene constelaciones reales y no puntos colocados al azar, es necesario mencionar otras similitudes encontradas con el mundo real. Primero, la posición de las flores en forma de códice de su manto (color café) concuerda con la posición de los principales cerros y volcanes de la orografía de México en un 92,13%. Segundo, las dimensiones de su imagen presentan una geometría áurea (obtenida al multiplicar 1,7 m por 1,05 m). Tercero, se ha encontrado que las flores y estrellas de la Virgen son verticalmente equidistantes entre sí y que al sobreponer un pentagrama de piano es posible componer una armonía musical [15, 16].\n",
    "\n",
    "### Armonía teológica\n",
    "\n",
    "Además de las consonancias mencionadas anteriormente, los expertos señalan que la Virgen de Guadalupe logra conciliar la visión indígena mexicana del mundo con la visión cristiana. De acuerdo a Chávez citando a Sanchez, \"ella es la mujer de Apocalipsis 12, 1-2\" [1, 3]:\n",
    "\n",
    "> \"_1. Y apareció en el cielo un gran signo: una Mujer revestida del sol, con la luna bajo sus pies y una corona de doce estrellas en su cabeza._\"\n",
    "> \n",
    "> \"_2. Estaba embarazada y gritaba de dolor porque iba a dar a luz._\" \n",
    "\n",
    "Algunas de las razones brindadas son las siguientes [4, 5].\n",
    "* San Juan Diego Cuauhtlatoatzin, indígena chichimeca, la presenta al obispo Fray Juan de Zumarraga como la señal solicitada para corroborar la autenticidad del mensaje transmitido [8, 11].\n",
    "* Como dice la cita bíblica, su imagen indica que viene del cielo: está rodeada por rayos de sol y nubes, tiene la luna debajo de sus pies, y su manto está lleno de estrellas.\n",
    "* Aunque la corona de estrellas no es visible en la imagen, los estudios de Ojeda et al. señalan que la constelación Corona Borealis está reflejada en el manto sobre su cabeza, en el mismo ángulo de inclinación de su rostro [2].\n",
    "* De acuerdo con la costumbre indígena, es virgen, pues su cabello está suelto; y se encuentra embarazada, pues porta un lazo negro sobre su vientre [9].\n",
    "* Su aparición del 9 al 12 de Diciembre concuerda cronológicamente con el tiempo litúrgico de Adviento, momento en que la Iglesia Católica se prepara para celebrar el nacimiento de Nuestro Señor Jesucristo, y también con Panquetzaliztli (pascua indígena florida), momento cuando los nativos mexicanos realizan sus sacrificios humanos [6, 12].\n",
    "\n",
    "De acuerdo con Chávez, la Virgen no es una versión cristiana de las deidades indígenas mexicanas, pero sí toma ciertas cualidades atribuidas a ellas para describir quién es su Hijo: \"el verdadero Dios que es Raíz de todo\", \"aquel por quien vivimos y todo se mueve\", \"Creador del Cerca y del Junco\", y \"Señor del Cielo y de la Tierra\" [13, 17]. Continuando con el mismo autor, la novedad que trajo la Virgen de Guadalupe al pensamiento indígena es que no son necesarios los sacrificios humanos para mantener el orden en el universo, pues su Hijo Jesucristo es el único y eterno sacrificio; y que es posible ofrecer el corazón a Dios sin arrancarlo del pecho [3].\n",
    "\n",
    "<img src='../img/1531_Nuestra_Señora_de_Guadalupe_anagoria.jpg' height=510 width=315></img></br>\n",
    "Figura 1. Nuestra Señora de Guadalupe. Wikimedia Commons [18]."
   ]
  },
  {
   "cell_type": "markdown",
   "id": "564d79ce-8af6-431e-96f8-31b42cecb28f",
   "metadata": {},
   "source": [
    "## Estrellas en el manto\n",
    "\n",
    "Ojeda et al. determinaron matemáticamente que la posición de las 46 estrellas del manto de la Virgen guarda una correlación del 97,75% con doce de las constelaciones visibles en el cielo de la Ciudad de México al momento de la impregnación (12 de Diciembre de 1531 a las 6:45 am). En este estudio también se confirma que las estrellas del manto están ubicadas de forma inversa, es decir, como se verían desde el espacio hacia la Tierra. El método que emplearon fue el siguiente.\n",
    "\n",
    "1. Primero, obtuvieron cuatro planisferios del cielo de la Ciudad de México utilizando cuatro planetarios electrónicos distintos (Redshift 7, Redshift 8, Stellarium y World Wide Telescope) para la fecha y hora indicadas.\n",
    "2. Segundo, aplicaron una proyección de Mercator a los planisferios para convertirlos de un espacio curvo a uno plano que permitiera su comparación con la imagen de la Virgen.\n",
    "3. Tercero, calcularon la distancia entre los pares adyacentes de estrellas en cada constelación (en coordenadas ecuatoriales).\n",
    "4. Cuarto, convirtieron las distancias de grados a kilómetros usando el Mercator.\n",
    "5. Quinto, respecto a un punto de origen, anotaron las coordenadas de las estrellas de la imagen de la Virgen en milímetros y luego a kilómetros, usando una escala.\n",
    "6. Sexto, aplicaron el método de [correlación de Pearson](https://es.wikipedia.org/wiki/Coeficiente_de_correlaci%C3%B3n_de_Pearson) [2].\n",
    "\n",
    "En las secciones siguientes tratamos de replicar los resultados para Ursa Majoris, una de las constelaciones analizadas."
   ]
  },
  {
   "cell_type": "markdown",
   "id": "2c46184d-45a8-4f62-a669-4581abb4270b",
   "metadata": {},
   "source": [
    "### Planisferio de la ciudad de México al momento de la impregnación\n",
    "TBD..."
   ]
  },
  {
   "cell_type": "code",
   "execution_count": 2,
   "id": "4715a51b-6951-4837-b3e8-f7c1ceaf461d",
   "metadata": {},
   "outputs": [
    {
     "name": "stderr",
     "output_type": "stream",
     "text": [
      "[#################################] 100% de421.bsp\n"
     ]
    },
    {
     "name": "stdout",
     "output_type": "stream",
     "text": [
      "15h 24m 10.22s\n",
      "-18deg 58' 58.4\"\n",
      "2.4033 au\n"
     ]
    }
   ],
   "source": [
    "from skyfield.api import load\n",
    "\n",
    "# Create a timescale and ask the current time.\n",
    "ts = load.timescale()\n",
    "t = ts.now()\n",
    "\n",
    "# Load the JPL ephemeris DE421 (covers 1900-2050).\n",
    "planets = load('de421.bsp')\n",
    "earth, mars = planets['earth'], planets['mars']\n",
    "\n",
    "# What's the position of Mars, viewed from Earth?\n",
    "astrometric = earth.at(t).observe(mars)\n",
    "ra, dec, distance = astrometric.radec()\n",
    "\n",
    "print(ra)\n",
    "print(dec)\n",
    "print(distance)"
   ]
  },
  {
   "cell_type": "markdown",
   "id": "d7266829-b9f1-464d-bc2f-6fba5319f9e0",
   "metadata": {},
   "source": [
    "### Proyección de Mercator\n",
    "TBD..."
   ]
  },
  {
   "cell_type": "markdown",
   "id": "319c7956-e1b0-404e-aea0-aaeff72f4e3c",
   "metadata": {},
   "source": [
    "### Coordenadas ecuatoriales\n",
    "\n",
    "En grados (declinación) y horas-minutos-segundos (ascensión recta)..."
   ]
  },
  {
   "cell_type": "markdown",
   "id": "bbff0f8a-169f-49c6-9845-7116c97d8cb1",
   "metadata": {},
   "source": [
    "### Método de correlación de Pearson\n",
    "Tomando prestados los datos presentados por Ojeda et. al en su presentación (minuto 44:46) podemos explicar el método de la correlación de Pearson y comprobar si obtenemos el mismo resultado para una de las constelaciones analizadas [2].\n",
    "\n",
    "| Estrellas Osa Mayor | Virgen (mm) | Planisferio (km)  |\n",
    "|-------------------|-------------|-------------------|\n",
    "| HR-5191 a HR-5054 | 650         | 0744.16           |\n",
    "| HR-5054 a HR-4905 | 550         | 0484.98           |\n",
    "| HR-4905 a HR-4660 | 650         | 0604.01           |\n",
    "| HR-4660 a HR-4554 | 650         | 0503.89           |\n",
    "| HR-4554 a HR-4295 | 700         | 0878.76           |\n",
    "| HR-4295 a HR-4301 | 600         | 0598.44           |\n",
    "| HR-4301 a HR-4660 | 800         | 1134.60           |\n",
    "| HR-4301 a HR-3757 | 950         | 1193.55           |\n",
    "| HR-3757 a HR-3323 | 800         | 0837.60           |\n",
    "| HR-3757 a HR-3888 | 600         | 0518.35           |\n",
    "| **Correlación**   | -           | 91.08%            |"
   ]
  },
  {
   "cell_type": "code",
   "execution_count": 13,
   "id": "dc5ad2ab-62d3-49cc-a8a4-8a761ac5706e",
   "metadata": {},
   "outputs": [
    {
     "name": "stdout",
     "output_type": "stream",
     "text": [
      "- Correlación: 91.08%\n",
      "- Distancia coseno: 98.41%\n"
     ]
    }
   ],
   "source": [
    "import numpy as np\n",
    "\n",
    "x = np.array([650, 550, 650, 650, 700, 600, 800, 950, 800, 600])\n",
    "y = np.array([744.16, 484.98, 604.01, 503.89, 878.76, 598.44, 1134.60, 1193.55, 837.6, 518.35])\n",
    "\n",
    "print(f'- Correlación: {100*np.cov(x,y, bias=True)[0][1]/(np.std(x)*np.std(y)):.2f}%') # 'bias=True' is for normilizing by 1/N\n",
    "print(f'- Distancia coseno: {100*np.dot(x,y)/(np.linalg.norm(x)*np.linalg.norm(y)):.2f}%')"
   ]
  },
  {
   "cell_type": "markdown",
   "id": "fb2a844a-42d9-4dd9-963b-0b2fb7bc8236",
   "metadata": {},
   "source": [
    "## Conclusiones\n",
    "TBD...\n",
    "\n",
    "## Referencias\n",
    "1. El libro del pueblo de Dios, la Biblia. Traducción argentina. 1990. Libreria Editrice Vaticana. URL: https://www.vatican.va/archive/ESL0506/__P118.HTM (última vez consultado el 2 de Agosto de 2025).\n",
    "\n",
    "2. David R. Ojeda, Daniel E. Ojeda. Estrellas en el Manto de la Virgen de Guadalupe. Congreso XX Aniversario San Juan Diego, Instituto Superio de Estudios Guadalupanos (ISEG), Mérida. Plaza Mariana, Basílica de Guadalupe, Ciudad de México. 30 de julio 2022. URL: https://www.youtube.com/watch?v=KoA6lLjcR-A (última vez consultado el 2 de Agosto de 2025).\n",
    "\n",
    "3. Eduardo Chávez. Santa María de Guadalupe, la gran Señal, Mujer del Apocalipsis #2. Instituto Superior de Estudios Guadalupanos ISEG. URL: https://www.facebook.com/share/v/1986EJaU2g/ (última vez consultado el 2 de Agosto de 2025).\n",
    "\n",
    "4. Eduardo Chávez. Santa María de Guadalupe, la gran Señal, Mujer del Apocalipsis #3. Instituto Superior de Estudios Guadalupanos ISEG. URL: https://www.facebook.com/share/v/19wcSLwrf9/ (última vez consultado el 2 de Agosto de 2025).\n",
    "\n",
    "5. Miguel Chavez. 1648.\n",
    "\n",
    "6. Eduardo Chávez. Santa María de Guadalupe, la gran Señal, Mujer del Apocalipsis #4. Instituto Superior de Estudios Guadalupanos ISEG. URL: https://www.facebook.com/share/v/19ZifbUZEv/ (última vez consultado el 2 de Agosto de 2025).\n",
    "\n",
    "7. Eduardo Chávez. Santa María de Guadalupe, la gran Señal, Mujer del Apocalipsis #5. Instituto Superior de Estudios Guadalupanos ISEG. URL: https://www.facebook.com/share/v/16d1YZskde/ (última vez consultado el 2 de Agosto de 2025).\n",
    "\n",
    "8. Eduardo Chávez. ¿Por qué canonizaron a Juan Diego?. Catholic.net. URL: https://es.catholic.net/op/articulos/8098/cat/913/por-que-canonizaron-a-juan-diego.html (última vez consultado el 2 de Agosto de 2025).\n",
    "\n",
    "9. Gabriela Treviño. La Virgen de Guadalupe para los invidentes. URL: https://www.morenita.tv/noticiainvidentes.html (última vez consultado el 2 de Agosto de 2025).\n",
    "\n",
    "10. Ojeda Llanes, F. (2012) Las constelaciones en la imagen de la Virgen de Guadalupe. Instituto de Estudios Guadalupanos. Libro.\n",
    "\n",
    "11. Nican Mopohua: Documento histórico sobre Guadalupe. Aciprensa. URL: https://www.aciprensa.com/recurso/2224/nican-mopohua-documento-historico-sobre-guadalupe (última vez consultado el 12 de Octubre de 2025).\n",
    "\n",
    "12. Eduardo Chávez. 1º Panquetzaliztli | M. I. Cango. URL: https://youtu.be/hXIFcc4k0_4?si=B5-YsxkO04flmCuf (última vez consultado en 5 de Octubre de 2025).\n",
    "\n",
    "13. Eternal Word Television Network. Nuestra Señora de Guadalupe - 12 de diciembre - México. URL: https://www.ewtn.com/es/catolicismo/santos/nuestra-senora-de-guadalupe-15031 (última vez consultado en 5 de Octubre de 2025).\n",
    "\n",
    "14. The Editors of Encyclopaedia Britannica (2025, June 26). Our Lady of Guadalupe. Encyclopedia Britannica. https://www.britannica.com/topic/Our-Lady-of-Guadalupe-patron-saint-of-Mexico. URL: https://www.britannica.com/topic/Our-Lady-of-Guadalupe-patron-saint-of-Mexico (última vez consultado el 4 de Octubre de 2025).\n",
    "\n",
    "15. Carlos Gerardo Ojeda Barrero. Volcanes y Cerros en la Virgen de Guadalupe. URL: https://youtu.be/e2w9AX0toss?si=TdOXFzo5x2bvlWKf (última vez consultado el 12 de Octubre de 2025).\n",
    "\n",
    "16. Fernando Ojeda Llanes. Música en el manto de la Virgen de Guadalupe. Instituto Superior de Estudios Guadalupanos ISEG. URL: https://www.youtube.com/watch?v=2VYPYYFHvEk (última vez consultado el 12 de Octubre de 2025).\n",
    "\n",
    "17. Nican Mopohua. Traducción y comentarios de Mons. José Luis Guerrero Rosado. Insigne y Nacional Basílica de Santa María de Guadalupe. URL: https://virgendeguadalupe.org.mx/el-relato/ (última vez consultado el 26 de Octubre de 2025).\n",
    "\n",
    "18. File:1531 Nuestra Señora de Guadalupe anagoria.jpg. (2024, October 20). Wikimedia Commons. Retrieved October 27, 2025, from https://commons.wikimedia.org/w/index.php?title=File:1531_Nuestra_Se%C3%B1ora_de_Guadalupe_anagoria.jpg&oldid=946933946."
   ]
  },
  {
   "cell_type": "markdown",
   "id": "34500aa3-46d6-4bcd-91a7-0d157dde448c",
   "metadata": {
    "jp-MarkdownHeadingCollapsed": true
   },
   "source": [
    "---\n",
    "<a rel=\"license\" href=\"http://creativecommons.org/licenses/by-nc-nd/4.0/\"><img alt=\"Licencia de Creative Commons\" style=\"border-width:0\" src=\"https://i.creativecommons.org/l/by-nc-nd/4.0/88x31.png\" /></a><br/>Este obra está bajo una <a rel=\"license\" href=\"http://creativecommons.org/licenses/by-nc-nd/4.0/\">licencia de Creative Commons Reconocimiento-NoComercial-SinObraDerivada 4.0 Internacional</a>. El sitio [juanfonsecasolis.github.io](https://juanfonsecasolis.github.io) es un blog dedicado a la investigación independiente en temas relacionados al procesamiento digital de señales. Para usar este artículo y citar las fuente por favor utilice el siguiente Bibtex:\n",
    "\n",
    "```\n",
    "@online{Fonseca2025,\n",
    "  author = {Juan M. Fonseca-Solís},\n",
    "  title = {La corona en la imagen de Nuestra Señora de Guadalupe},\n",
    "  year = 2025,\n",
    "  url = {https://juanfonsecasolis.github.io/blog/JFonseca.coronaNuestraSenioraGuadalupe.html},\n",
    "  urldate = {}\n",
    "}\n",
    "```"
   ]
  }
 ],
 "metadata": {
  "kernelspec": {
   "display_name": "Python 3 (ipykernel)",
   "language": "python",
   "name": "python3"
  },
  "language_info": {
   "codemirror_mode": {
    "name": "ipython",
    "version": 3
   },
   "file_extension": ".py",
   "mimetype": "text/x-python",
   "name": "python",
   "nbconvert_exporter": "python",
   "pygments_lexer": "ipython3",
   "version": "3.12.3"
  }
 },
 "nbformat": 4,
 "nbformat_minor": 5
}
