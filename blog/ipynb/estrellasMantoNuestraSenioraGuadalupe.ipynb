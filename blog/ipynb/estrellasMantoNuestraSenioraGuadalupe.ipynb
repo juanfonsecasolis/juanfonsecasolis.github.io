{
 "cells": [
  {
   "cell_type": "markdown",
   "id": "fe006c80-7f85-457c-b977-69d343aeab89",
   "metadata": {},
   "source": [
    "# Estrellas en el manto de Nuestra Señora de Guadalupe\n",
    "\n",
    "<a href=\"https://juanfonsecasolis.github.io/\">Juan M. Fonseca-Solís</a> · Julio 2025 · lectura de 15 min\n",
    "\n",
    "---\n",
    "\n",
    "## Resumen\n",
    "Nuestra Señora de Guadalupe, declarada en 1910 \"Patrona de América Latina\" por el Papa Pío X. Sin duda, una de las advocación más queridas por los católicos de esta parte del globo. No solo por la intercesión y favores concedidos en la actualidad, sino también por el papel que desempeñó en la conversión del pueblo indígena de México, uno de los mayores retos de evangelización del nuevo mundo [11]. "
   ]
  },
  {
   "cell_type": "markdown",
   "id": "e55271b9-f0d1-4a46-983d-7ab8015bb631",
   "metadata": {},
   "source": [
    "## ¿Por qué se dice que la imagen de Nuestra Señora de Guadalupe está coronada con la constelación Corona Borealis?\n",
    "\n",
    "Ojeda et al. determinaron científicamente que la posición de las 46 estrellas del manto de la Virgen guarda una correlación del 97,75% con doce de las constelaciones visibles en el cielo de la Ciudad de México al momento de la impregnación (un 12 de Diciembre de 1531 a las 6:45 am). En este estudio también se confirma que las estrellas del manto están ubicadas de forma inversa, es decir, como se verían desde el espacio hacia la Tierra. El método que emplearon fue el siguiente. Primero, obtuvieron cuatro planisferios del cielo de la Ciudad de México utilizando cuatro planetarios electrónicos distintos (Redshift 7, Redshift 8, Stellarium y World Wide Telescope) para la fecha y hora indicadas. Segundo, aplicaron una proyección de Mercator a los planisferios para convertirlos de un espacio curvo a uno plano que permitiera su comparación con la imagen de la Virgen. Tercero, calcularon la distancia en grados (declinación) y horas-minutos-segundos (ascensión recta) entre los pares adyacentes de estrellas en cada constelación. Cuarto, convirtieron las distancias de grados a kilómetros. Quinto, respecto de un punto de origen, anotaron las coordenadas de las estrellas de la imagen de la Virgen en milímetros. Sexto, aplicaron una escala para convertir kilómetros a milímetros. Séptimo, aplicaron el método de [correlación de Pearson](https://es.wikipedia.org/wiki/Coeficiente_de_correlaci%C3%B3n_de_Pearson) para cuantificar la correlación [2]. Aunque la corona de estrellas no es visible en la imagen, los estudios de Ojeda et al., e investigadores previos, señalan que la constelación Corona Borealis está reflejada en el manto sobre su cabeza, en el mismo ángulo de inclinación de su rostro [2].\n",
    "\n",
    "## ¿Por qué buscar doce estrellas en la constelación Corona Borealis?\n",
    "\n",
    "De acuerdo con Chávez, nuestra Señora de Guadalupe es la inculturación indígena de la madre de Nuestro Señor Jesucristo en el Cristianismo. Chavez cita a Sanchez sobre la iconografía de la Virgen de Guadalupe: \"ella es la mujer de Apocalipsis 12, 1-2\" [1, 3]:\n",
    "\n",
    "> \"_1. Y apareció en el cielo un gran signo: una Mujer revestida del sol, con la luna bajo sus pies y una corona de doce estrellas en su cabeza._\"\n",
    "> \n",
    "> \"_2. Estaba embarazada y gritaba de dolor porque iba a dar a luz._\". \n",
    "\n",
    "Los argumentos presentados son los siguientes [4, 5].\n",
    "* Su aparición en 1531 d.C. corresponde cronológicamente a la señal pedida por el obispo Fray Juan de Zumarraga al indígena chichimeca San Juan Diego Cuauhtlatoatzin [8];\n",
    "* En la iconografía se observa que (i) está rodeada por rayos de sol, (ii) tiene la luna debajo de sus pies, y (iii) su manto está lleno de estrellas y la rodean nubes (indicando que viene del cielo);\n",
    "* De acuerdo a la interpretación indígena del mundo, es virgen, pues su cabello está suelto, y se encuentra embarazada pues porta un lazo negro sobre su vientre [9].\n",
    "* Su aparición fue del 9 al 12 de Diciembre, es decir, en tiempo litúrgico de Adviento, donde la Iglesia se prepara para celebrar el nacimiento del Señor [6]."
   ]
  },
  {
   "cell_type": "markdown",
   "id": "bbff0f8a-169f-49c6-9845-7116c97d8cb1",
   "metadata": {},
   "source": [
    "#### Método de correlación de Pearson\n",
    "Tomando prestados los datos presentados por Ojeda et. al en su presentación (minuto 44:46) podemos explicar el método de la correlación de Pearson y comprobar si obtenemos el mismo resultado[2].\n",
    "\n",
    "| Estrellas Osa Mayor | Virgen (mm) | Planisferio (km)  |\n",
    "|-------------------|-------------|-------------------|\n",
    "| HR-5191 a HR-5054 | 650         | 0744.16           |\n",
    "| HR-5054 a HR-4905 | 550         | 0484.98           |\n",
    "| HR-4905 a HR-4660 | 650         | 0604.01           |\n",
    "| HR-4660 a HR-4554 | 650         | 0503.89           |\n",
    "| HR-4554 a HR-4295 | 700         | 0878.76           |\n",
    "| HR-4295 a HR-4301 | 600         | 0598.44           |\n",
    "| HR-4301 a HR-4660 | 800         | 1134.60           |\n",
    "| HR-4301 a HR-3757 | 950         | 1193.55           |\n",
    "| HR-3757 a HR-3323 | 800         | 0837.60           |\n",
    "| HR-3757 a HR-3888 | 600         | 0518.35           |\n",
    "| Correlación       |             | 91.08%            |"
   ]
  },
  {
   "cell_type": "code",
   "execution_count": 4,
   "id": "dc5ad2ab-62d3-49cc-a8a4-8a761ac5706e",
   "metadata": {},
   "outputs": [],
   "source": [
    "import numpy as np\n",
    "\n",
    "x = np.array([650, 550, 650, 650, 700, 600, 800, 950, 800, 600])\n",
    "y = np.array([744.16, 484.98, 604.01, 503.89, 878.76, 598.44, 1134.60, 1193.55, 837.6, 518.35])\n",
    "\n",
    "cos = np.dot(x,y)/(np.linalg.norm(x)*np.linalg.norm(y))"
   ]
  },
  {
   "cell_type": "markdown",
   "id": "fb2a844a-42d9-4dd9-963b-0b2fb7bc8236",
   "metadata": {},
   "source": [
    "## Metodología\n",
    "TBD...\n",
    "\n",
    "## Resultados\n",
    "TBD...\n",
    "\n",
    "## Conclusiones y trabajo futuro\n",
    "TBD...\n",
    "\n",
    "## Referencias\n",
    "1. El libro del pueblo de Dios, la Biblia. Traducción argentina. 1990. Libreria Editrice Vaticana. URL: https://www.vatican.va/archive/ESL0506/__P118.HTM (última vez consultado el 2 de Agosto de 2025).\n",
    "\n",
    "2. David R. Ojeda, Daniel E. Ojeda. Estrellas en el Manto de la Virgen de Guadalupe. Congreso XX Aniversario San Juan Diego, Instituto Superio de Estudios Guadalupanos (ISEG), Mérida. Plaza Mariana, Basílica de Guadalupe, Ciudad de México. 30 de julio 2022. URL: https://www.youtube.com/watch?v=KoA6lLjcR-A (última vez consultado el 2 de Agosto de 2025).\n",
    "\n",
    "3. Eduardo Chávez. Santa María de Guadalupe, la gran Señal, Mujer del Apocalipsis #2. Instituto Superior de Estudios Guadalupanos ISEG. URL: https://www.facebook.com/share/v/1986EJaU2g/ (última vez consultado el 2 de Agosto de 2025).\n",
    "\n",
    "4. Eduardo Chávez. Santa María de Guadalupe, la gran Señal, Mujer del Apocalipsis #3. Instituto Superior de Estudios Guadalupanos ISEG. URL: https://www.facebook.com/share/v/19wcSLwrf9/ (última vez consultado el 2 de Agosto de 2025).\n",
    "\n",
    "5. Miguel Chavez. 1648.\n",
    "\n",
    "6. Eduardo Chávez. Santa María de Guadalupe, la gran Señal, Mujer del Apocalipsis #4. Instituto Superior de Estudios Guadalupanos ISEG. URL: https://www.facebook.com/share/v/19ZifbUZEv/ (última vez consultado el 2 de Agosto de 2025).\n",
    "\n",
    "7. Eduardo Chávez. Santa María de Guadalupe, la gran Señal, Mujer del Apocalipsis #5. Instituto Superior de Estudios Guadalupanos ISEG. URL: https://www.facebook.com/share/v/16d1YZskde/ (última vez consultado el 2 de Agosto de 2025).\n",
    "\n",
    "8. Eduardo Chávez. ¿Por qué canonizaron a Juan Diego?. Catholic.net. URL: https://es.catholic.net/op/articulos/8098/cat/913/por-que-canonizaron-a-juan-diego.html (última vez consultado el 2 de Agosto de 2025).\n",
    "\n",
    "9. Gabriela Treviño. La Virgen de Guadalupe para los invidentes. URL: https://www.morenita.tv/noticiainvidentes.html (última vez consultado el 2 de Agosto de 2025).\n",
    "\n",
    "10. Ojeda Llanes, F. (2012) Las constelaciones en la imagen de la Virgen de Guadalupe. Instituto de Estudios Guadalupanos. Libro.\n",
    "\n",
    "11. The Editors of Encyclopaedia Britannica (2025, June 26). Our Lady of Guadalupe. Encyclopedia Britannica. https://www.britannica.com/topic/Our-Lady-of-Guadalupe-patron-saint-of-Mexico. URL: https://www.britannica.com/topic/Our-Lady-of-Guadalupe-patron-saint-of-Mexico (última vez consultado el 4 de Octubre de 2025),"
   ]
  },
  {
   "cell_type": "markdown",
   "id": "34500aa3-46d6-4bcd-91a7-0d157dde448c",
   "metadata": {
    "jp-MarkdownHeadingCollapsed": true
   },
   "source": [
    "---\n",
    "<a rel=\"license\" href=\"http://creativecommons.org/licenses/by-nc-nd/4.0/\"><img alt=\"Licencia de Creative Commons\" style=\"border-width:0\" src=\"https://i.creativecommons.org/l/by-nc-nd/4.0/88x31.png\" /></a><br/>Este obra está bajo una <a rel=\"license\" href=\"http://creativecommons.org/licenses/by-nc-nd/4.0/\">licencia de Creative Commons Reconocimiento-NoComercial-SinObraDerivada 4.0 Internacional</a>. El sitio [juanfonsecasolis.github.io](https://juanfonsecasolis.github.io) es un blog dedicado a la investigación independiente en temas relacionados al procesamiento digital de señales. Para reutilizar este artículo y citar las fuente por favor utilice el siguiente Bibtex:\n",
    "\n",
    "```\n",
    "@online{Fonseca2025,\n",
    "  author = {Juan M. Fonseca-Solís},\n",
    "  title = {La corona en la imagen de Nuestra Señora de Guadalupe},\n",
    "  year = 2025,\n",
    "  url = {https://juanfonsecasolis.github.io/blog/JFonseca.coronaNuestraSenioraGuadalupe.html},\n",
    "  urldate = {}\n",
    "}\n",
    "```"
   ]
  }
 ],
 "metadata": {
  "kernelspec": {
   "display_name": "Python 3 (ipykernel)",
   "language": "python",
   "name": "python3"
  },
  "language_info": {
   "codemirror_mode": {
    "name": "ipython",
    "version": 3
   },
   "file_extension": ".py",
   "mimetype": "text/x-python",
   "name": "python",
   "nbconvert_exporter": "python",
   "pygments_lexer": "ipython3",
   "version": "3.12.3"
  }
 },
 "nbformat": 4,
 "nbformat_minor": 5
}
