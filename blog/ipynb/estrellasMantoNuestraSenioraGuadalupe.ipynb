{
 "cells": [
  {
   "cell_type": "markdown",
   "id": "fe006c80-7f85-457c-b977-69d343aeab89",
   "metadata": {},
   "source": [
    "# Estrellas en el manto de Nuestra Señora de Guadalupe\n",
    "\n",
    "<a href=\"https://juanfonsecasolis.github.io/\">Juan M. Fonseca-Solís</a> · Julio-Octubre 2025 · lectura de 15 min\n",
    "\n",
    "---\n",
    "\n",
    "## Resumen\n",
    "\n",
    "La Virgen de Guadalupe, declarada _Patrona de América Latina_ en 1910 por el Papa Pío X es, sin duda, una de las advocaciones más queridas por los católicos de esta parte del globo, no solo por su intercesión y favores concedidos, sino también por su iconografía y significado en la cultura indígena mexicana [11]. En este ipython notebook estudiamos el problema planteado por el padre Mario Rojas y Homero Fernández de que las estrellas del manto de la imagen de Nuestra de Guadalupe corresponden con las del globo celeste en el momento de la impregnación en la Ciudad de México el 12 de diciembre de 1531 a las 6:45 am. Este es un problema interesante de estudiar, entre otras razones, porque permite aplicar la teoría de espacios vectoriales, probabilidad y estadística. En 2022, Ojeda et al. del Instituto de Estudios Guadalupanos (ISEG) determinaron con una correlación del 97,75% la posición de las 46 estrellas del manto de la Virgen corresponde con doce de las constelaciones visibles en el cielo de la Ciudad de México al momento de la impregnación.  "
   ]
  },
  {
   "cell_type": "markdown",
   "id": "e55271b9-f0d1-4a46-983d-7ab8015bb631",
   "metadata": {},
   "source": [
    "## Un poco de teología\n",
    "\n",
    "De acuerdo con Chávez, nuestra Señora de Guadalupe es la inculturación indígena de la madre de Nuestro Señor Jesucristo del Cristianismo. Chavez cita a Sanchez sobre la iconografía de la Virgen de Guadalupe: \"ella es la mujer de Apocalipsis 12, 1-2\" [1, 3]:\n",
    "\n",
    "> \"_1. Y apareció en el cielo un gran signo: una Mujer revestida del sol, con la luna bajo sus pies y una corona de doce estrellas en su cabeza._\"\n",
    "> \n",
    "> \"_2. Estaba embarazada y gritaba de dolor porque iba a dar a luz._\" \n",
    "\n",
    "Las observaciones que apoyan esta interpretación son las siguientes [4, 5].\n",
    "* Da una respuesta a la señal pedida por el obispo Fray Juan de Zumarraga al indígena chichimeca San Juan Diego Cuauhtlatoatzin [8].\n",
    "* En su iconografía se observa que la Virgen está rodeada por rayos de sol y nubes, tiene la luna debajo de sus pies (los indígenas relacionaban las fuerzas del mal con los eclipses de sol), y su manto está lleno de estrellas, indicando que viene del cielo.\n",
    "* De acuerdo con la interpretación indígena del mundo, es virgen, pues su cabello está suelto, y se encuentra embarazada, pues porta un lazo negro sobre su vientre [9].\n",
    "* Su aparición sucedió del 9 al 12 de Diciembre, en tiempo litúrgico de Adviento, donde la Iglesia se prepara para celebrar el nacimiento de Nuestro Señor y en Panquetzaliztli, cuando los indígenas celebraban su pascua [6, 12].\n",
    "\n",
    "De acuerdo a Chávez la Virgen no es una versión cristiana de las deidades indígenas mexicanos pero sí toma cualidades atribuidas a ellos para describir quién es su Hijo: \"el verdadero Dios que es Raíz de todo\", \"aquel por quien vivimos y todo se mueve\", \"Creador del Cerca y del Junco\", y \"Señor del Cielo y de la Tierra\"; además, que es posible ofrecer a Dios el corazón sin arrancarlo del pecho, es decir, que su Hijo es el único y eterno sacrificio [3, 13].\n",
    "\n",
    "## Correlación matemática\n",
    "\n",
    "Ojeda et al. determinaron científicamente que la posición de las 46 estrellas del manto de la Virgen guarda una correlación del 97,75% con doce de las constelaciones visibles en el cielo de la Ciudad de México al momento de la impregnación (un 12 de Diciembre de 1531 a las 6:45 am). En este estudio también se confirma que las estrellas del manto están ubicadas de forma inversa, es decir, como se verían desde el espacio hacia la Tierra. El método que emplearon fue el siguiente. Primero, obtuvieron cuatro planisferios del cielo de la Ciudad de México utilizando cuatro planetarios electrónicos distintos (Redshift 7, Redshift 8, Stellarium y World Wide Telescope) para la fecha y hora indicadas. Segundo, aplicaron una proyección de Mercator a los planisferios para convertirlos de un espacio curvo a uno plano que permitiera su comparación con la imagen de la Virgen. Tercero, calcularon la distancia en grados (declinación) y horas-minutos-segundos (ascensión recta) entre los pares adyacentes de estrellas en cada constelación. Cuarto, convirtieron las distancias de grados a kilómetros. Quinto, respecto de un punto de origen, anotaron las coordenadas de las estrellas de la imagen de la Virgen en milímetros. Sexto, aplicaron una escala para convertir kilómetros a milímetros. Séptimo, aplicaron el método de [correlación de Pearson](https://es.wikipedia.org/wiki/Coeficiente_de_correlaci%C3%B3n_de_Pearson) para cuantificar la correlación [2]. Aunque la corona de estrellas no es visible en la imagen, los estudios de Ojeda et al., e investigadores previos, señalan que la constelación Corona Borealis está reflejada en el manto sobre su cabeza, en el mismo ángulo de inclinación de su rostro [2]."
   ]
  },
  {
   "cell_type": "markdown",
   "id": "bbff0f8a-169f-49c6-9845-7116c97d8cb1",
   "metadata": {},
   "source": [
    "#### Método de correlación de Pearson\n",
    "Tomando prestados los datos presentados por Ojeda et. al en su presentación (minuto 44:46) podemos explicar el método de la correlación de Pearson y comprobar si obtenemos el mismo resultado [2]...\n",
    "\n",
    "| Estrellas Osa Mayor | Virgen (mm) | Planisferio (km)  |\n",
    "|-------------------|-------------|-------------------|\n",
    "| HR-5191 a HR-5054 | 650         | 0744.16           |\n",
    "| HR-5054 a HR-4905 | 550         | 0484.98           |\n",
    "| HR-4905 a HR-4660 | 650         | 0604.01           |\n",
    "| HR-4660 a HR-4554 | 650         | 0503.89           |\n",
    "| HR-4554 a HR-4295 | 700         | 0878.76           |\n",
    "| HR-4295 a HR-4301 | 600         | 0598.44           |\n",
    "| HR-4301 a HR-4660 | 800         | 1134.60           |\n",
    "| HR-4301 a HR-3757 | 950         | 1193.55           |\n",
    "| HR-3757 a HR-3323 | 800         | 0837.60           |\n",
    "| HR-3757 a HR-3888 | 600         | 0518.35           |\n",
    "| Correlación       |             | 91.08%            |"
   ]
  },
  {
   "cell_type": "code",
   "execution_count": 4,
   "id": "dc5ad2ab-62d3-49cc-a8a4-8a761ac5706e",
   "metadata": {},
   "outputs": [],
   "source": [
    "import numpy as np\n",
    "\n",
    "x = np.array([650, 550, 650, 650, 700, 600, 800, 950, 800, 600])\n",
    "y = np.array([744.16, 484.98, 604.01, 503.89, 878.76, 598.44, 1134.60, 1193.55, 837.6, 518.35])\n",
    "\n",
    "cos = np.dot(x,y)/(np.linalg.norm(x)*np.linalg.norm(y))"
   ]
  },
  {
   "cell_type": "markdown",
   "id": "fb2a844a-42d9-4dd9-963b-0b2fb7bc8236",
   "metadata": {},
   "source": [
    "## Conclusiones\n",
    "TBD...\n",
    "\n",
    "## Referencias\n",
    "1. El libro del pueblo de Dios, la Biblia. Traducción argentina. 1990. Libreria Editrice Vaticana. URL: https://www.vatican.va/archive/ESL0506/__P118.HTM (última vez consultado el 2 de Agosto de 2025).\n",
    "\n",
    "2. David R. Ojeda, Daniel E. Ojeda. Estrellas en el Manto de la Virgen de Guadalupe. Congreso XX Aniversario San Juan Diego, Instituto Superio de Estudios Guadalupanos (ISEG), Mérida. Plaza Mariana, Basílica de Guadalupe, Ciudad de México. 30 de julio 2022. URL: https://www.youtube.com/watch?v=KoA6lLjcR-A (última vez consultado el 2 de Agosto de 2025).\n",
    "\n",
    "3. Eduardo Chávez. Santa María de Guadalupe, la gran Señal, Mujer del Apocalipsis #2. Instituto Superior de Estudios Guadalupanos ISEG. URL: https://www.facebook.com/share/v/1986EJaU2g/ (última vez consultado el 2 de Agosto de 2025).\n",
    "\n",
    "4. Eduardo Chávez. Santa María de Guadalupe, la gran Señal, Mujer del Apocalipsis #3. Instituto Superior de Estudios Guadalupanos ISEG. URL: https://www.facebook.com/share/v/19wcSLwrf9/ (última vez consultado el 2 de Agosto de 2025).\n",
    "\n",
    "5. Miguel Chavez. 1648.\n",
    "\n",
    "6. Eduardo Chávez. Santa María de Guadalupe, la gran Señal, Mujer del Apocalipsis #4. Instituto Superior de Estudios Guadalupanos ISEG. URL: https://www.facebook.com/share/v/19ZifbUZEv/ (última vez consultado el 2 de Agosto de 2025).\n",
    "\n",
    "7. Eduardo Chávez. Santa María de Guadalupe, la gran Señal, Mujer del Apocalipsis #5. Instituto Superior de Estudios Guadalupanos ISEG. URL: https://www.facebook.com/share/v/16d1YZskde/ (última vez consultado el 2 de Agosto de 2025).\n",
    "\n",
    "8. Eduardo Chávez. ¿Por qué canonizaron a Juan Diego?. Catholic.net. URL: https://es.catholic.net/op/articulos/8098/cat/913/por-que-canonizaron-a-juan-diego.html (última vez consultado el 2 de Agosto de 2025).\n",
    "\n",
    "9. Gabriela Treviño. La Virgen de Guadalupe para los invidentes. URL: https://www.morenita.tv/noticiainvidentes.html (última vez consultado el 2 de Agosto de 2025).\n",
    "\n",
    "10. Ojeda Llanes, F. (2012) Las constelaciones en la imagen de la Virgen de Guadalupe. Instituto de Estudios Guadalupanos. Libro.\n",
    "\n",
    "11. The Editors of Encyclopaedia Britannica (2025, June 26). Our Lady of Guadalupe. Encyclopedia Britannica. https://www.britannica.com/topic/Our-Lady-of-Guadalupe-patron-saint-of-Mexico. URL: https://www.britannica.com/topic/Our-Lady-of-Guadalupe-patron-saint-of-Mexico (última vez consultado el 4 de Octubre de 2025).\n",
    "\n",
    "12. Eduardo Chávez. 1º Panquetzaliztli | M. I. Cango. URL: https://youtu.be/hXIFcc4k0_4?si=B5-YsxkO04flmCuf (última vez consultado en 5 de Octubre de 2025).\n",
    "\n",
    "13. Eternal Word Television Network. Nuestra Señora de Guadalupe - 12 de diciembre - México. URL: https://www.ewtn.com/es/catolicismo/santos/nuestra-senora-de-guadalupe-15031 (última vez consultado en 5 de Octubre de 2025).\n"
   ]
  },
  {
   "cell_type": "markdown",
   "id": "34500aa3-46d6-4bcd-91a7-0d157dde448c",
   "metadata": {
    "jp-MarkdownHeadingCollapsed": true
   },
   "source": [
    "---\n",
    "<a rel=\"license\" href=\"http://creativecommons.org/licenses/by-nc-nd/4.0/\"><img alt=\"Licencia de Creative Commons\" style=\"border-width:0\" src=\"https://i.creativecommons.org/l/by-nc-nd/4.0/88x31.png\" /></a><br/>Este obra está bajo una <a rel=\"license\" href=\"http://creativecommons.org/licenses/by-nc-nd/4.0/\">licencia de Creative Commons Reconocimiento-NoComercial-SinObraDerivada 4.0 Internacional</a>. El sitio [juanfonsecasolis.github.io](https://juanfonsecasolis.github.io) es un blog dedicado a la investigación independiente en temas relacionados al procesamiento digital de señales. Para reutilizar este artículo y citar las fuente por favor utilice el siguiente Bibtex:\n",
    "\n",
    "```\n",
    "@online{Fonseca2025,\n",
    "  author = {Juan M. Fonseca-Solís},\n",
    "  title = {La corona en la imagen de Nuestra Señora de Guadalupe},\n",
    "  year = 2025,\n",
    "  url = {https://juanfonsecasolis.github.io/blog/JFonseca.coronaNuestraSenioraGuadalupe.html},\n",
    "  urldate = {}\n",
    "}\n",
    "```"
   ]
  }
 ],
 "metadata": {
  "kernelspec": {
   "display_name": "Python 3 (ipykernel)",
   "language": "python",
   "name": "python3"
  },
  "language_info": {
   "codemirror_mode": {
    "name": "ipython",
    "version": 3
   },
   "file_extension": ".py",
   "mimetype": "text/x-python",
   "name": "python",
   "nbconvert_exporter": "python",
   "pygments_lexer": "ipython3",
   "version": "3.12.3"
  }
 },
 "nbformat": 4,
 "nbformat_minor": 5
}
