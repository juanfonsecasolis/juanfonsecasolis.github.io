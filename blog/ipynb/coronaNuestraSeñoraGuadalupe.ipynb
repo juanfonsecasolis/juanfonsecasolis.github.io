{
 "cells": [
  {
   "cell_type": "markdown",
   "id": "9e25d6a3-8777-47d8-9cc3-faf3f004330c",
   "metadata": {},
   "source": [
    "# La corona en la imagen de Nuestra Señora de Guadalupe\n",
    "\n",
    "<a href=\"https://juanfonsecasolis.github.io/\">Juan M. Fonseca-Solís</a> · Julio 2025 · lectura de 15 min\n",
    "\n",
    "---\n",
    "\n",
    "## Resumen\n",
    "\n"
   ]
  },
  {
   "cell_type": "markdown",
   "id": "bab622cc-fdfd-4303-8365-b6209fb22808",
   "metadata": {},
   "source": [
    "---\n",
    "<a rel=\"license\" href=\"http://creativecommons.org/licenses/by-nc-nd/4.0/\"><img alt=\"Licencia de Creative Commons\" style=\"border-width:0\" src=\"https://i.creativecommons.org/l/by-nc-nd/4.0/88x31.png\" /></a><br/>Este obra está bajo una <a rel=\"license\" href=\"http://creativecommons.org/licenses/by-nc-nd/4.0/\">licencia de Creative Commons Reconocimiento-NoComercial-SinObraDerivada 4.0 Internacional</a>. El sitio [juanfonsecasolis.github.io](https://juanfonsecasolis.github.io) es un blog dedicado a la investigación independiente en temas relacionados al procesamiento digital de señales. Para reutilizar este artículo y citar las fuente por favor utilice el siguiente Bibtex:\n",
    "\n",
    "```\n",
    "@online{Fonseca2021,\n",
    "  author = {Juan M. Fonseca-Solís},\n",
    "  title = {Desmistificando la transformada de ondeletas},\n",
    "  year = 2021,\n",
    "  url = {https://juanfonsecasolis.github.io/blog/JFonseca.wavelets.html},\n",
    "  urldate = {}\n",
    "}\n",
    "```"
   ]
  },
  {
   "cell_type": "code",
   "execution_count": null,
   "id": "19f57a64-f4be-47e7-ad55-4559e2fc514d",
   "metadata": {},
   "outputs": [],
   "source": []
  }
 ],
 "metadata": {
  "kernelspec": {
   "display_name": "Python 3 (ipykernel)",
   "language": "python",
   "name": "python3"
  },
  "language_info": {
   "codemirror_mode": {
    "name": "ipython",
    "version": 3
   },
   "file_extension": ".py",
   "mimetype": "text/x-python",
   "name": "python",
   "nbconvert_exporter": "python",
   "pygments_lexer": "ipython3",
   "version": "3.12.3"
  }
 },
 "nbformat": 4,
 "nbformat_minor": 5
}
