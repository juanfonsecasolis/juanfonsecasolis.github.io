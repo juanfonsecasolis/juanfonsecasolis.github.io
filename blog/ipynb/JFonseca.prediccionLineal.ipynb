{
 "cells": [
  {
   "cell_type": "markdown",
   "metadata": {},
   "source": [
    "# Predicción lineal en tareas de síntesis cruzada\n",
    "\n",
    "<a href=\"https://juanfonsecasolis.github.io/\">Juan M. Fonseca-Solís</a> · Agosto 2020 · 10 min read\n",
    "\n",
    "---\n",
    "\n",
    "## Resumen\n",
    "To be defined..."
   ]
  },
  {
   "cell_type": "code",
   "execution_count": 38,
   "metadata": {},
   "outputs": [
    {
     "name": "stderr",
     "output_type": "stream",
     "text": [
      "<ipython-input-38-80264a5f3774>:4: WavFileWarning: Chunk (non-data) not understood, skipping it.\n",
      "  fs, x = wavfile.read('./wav/highquality_100520.wav')\n"
     ]
    },
    {
     "data": {
      "text/html": [
       "\n",
       "                <audio  controls=\"controls\" >\n",
       "                    <source src=\"data:audio/wav;base64,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\" type=\"audio/wav\" />\n",
       "                    Your browser does not support the audio element.\n",
       "                </audio>\n",
       "              "
      ],
      "text/plain": [
       "<IPython.lib.display.Audio object>"
      ]
     },
     "execution_count": 38,
     "metadata": {},
     "output_type": "execute_result"
    }
   ],
   "source": [
    "from scipy.io import wavfile\n",
    "from IPython.display import Audio\n",
    "\n",
    "fs, x = wavfile.read('./wav/highquality_100520.wav')\n",
    "N = 1000\n",
    "Audio(x[0:N], rate=fs) "
   ]
  },
  {
   "cell_type": "code",
   "execution_count": 39,
   "metadata": {},
   "outputs": [
    {
     "name": "stdout",
     "output_type": "stream",
     "text": [
      "(1000, 1000)\n"
     ]
    }
   ],
   "source": [
    "import numpy as np\n",
    "\n",
    "X = x[0:N].reshape((N,1))\n",
    "mu = np.mean(X)\n",
    "R = (X-mu).T * (X-mu)\n",
    "\n",
    "print(R.shape) # need a more efficient way to calculate the LPC coefficients (windows?)"
   ]
  },
  {
   "cell_type": "markdown",
   "metadata": {},
   "source": [
    "# Referencias\n",
    "1. Hyung-Suk Kim. Linear Predictive Coding is All-Pole Resonance Modeling. Center for Computer Research in Music and Acoustics, Stanford University. Disponible en: <https://ccrma.stanford.edu/~hskim08/lpc/> (consultado por última vez el 02/15/21)"
   ]
  },
  {
   "cell_type": "markdown",
   "metadata": {},
   "source": [
    "---\n",
    "<a rel=\"license\" href=\"http://creativecommons.org/licenses/by-nc-nd/4.0/\"><img alt=\"Licencia de Creative Commons\" style=\"border-width:0\" src=\"https://i.creativecommons.org/l/by-nc-nd/4.0/88x31.png\" /></a><br/>Este obra está bajo una <a rel=\"license\" href=\"http://creativecommons.org/licenses/by-nc-nd/4.0/\">licencia de Creative Commons Reconocimiento-NoComercial-SinObraDerivada 4.0 Internacional</a>. El sitio [juanfonsecasolis.github.io](https://juanfonsecasolis.github.io) es un blog dedicado a la investigación independiente en temas relacionados al procesamiento digital de señales. Para reutilizar este artículo y citar las fuente por favor utilice el siguiente Bibtex:\n",
    "\n",
    "```\n",
    "@online{Fonseca2020,\n",
    "  author = {Juan M. Fonseca-Solís},\n",
    "  title = {Predicción lineal en tareas de síntesis cruzada},\n",
    "  year = 2020,\n",
    "  url = {https://juanfonsecasolis.github.io/blog/JFonseca.prediccionLineal.html},\n",
    "  urldate = {}\n",
    "}\n",
    "```"
   ]
  }
 ],
 "metadata": {
  "kernelspec": {
   "display_name": "Python 3",
   "language": "python",
   "name": "python3"
  },
  "language_info": {
   "codemirror_mode": {
    "name": "ipython",
    "version": 3
   },
   "file_extension": ".py",
   "mimetype": "text/x-python",
   "name": "python",
   "nbconvert_exporter": "python",
   "pygments_lexer": "ipython3",
   "version": "3.8.5"
  }
 },
 "nbformat": 4,
 "nbformat_minor": 4
}
