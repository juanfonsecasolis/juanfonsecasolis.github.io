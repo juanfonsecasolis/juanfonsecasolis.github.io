{
 "cells": [
  {
   "attachments": {},
   "cell_type": "markdown",
   "metadata": {},
   "source": [
    "# Huellas de audio digital para probar podcasts y streamings\n",
    "\n",
    "<a href=\"https://juanfonsecasolis.github.io/\">Juan M. Fonseca-Solís</a> · Diciembre 2021 · lectura de 7 min\n",
    "\n",
    "---\n",
    "\n",
    "## Resumen\n",
    "1. ¿Cuál es el problema que plantea el paper?\n",
    "2. ¿Por qué es un problema interesante o importante?\n",
    "3. ¿Qué otras soluciones se han intentado para resolver este problema?\n",
    "4. ¿Cuál es la solución propuesta por los autores?\n",
    "5. ¿Qué tan exitosa es esta solución?\n",
    "\n",
    "# Introducción\n",
    "Huella de audio digital\n",
    "Puntos de interés\n",
    "Codificación\n",
    "Espectrograma (STFT)\n",
    "Magnitud espectral (FFT)\n",
    "Transformada de Fourier\n",
    "Oscilograma\n",
    "Producción del audio\n"
   ]
  },
  {
   "cell_type": "markdown",
   "metadata": {},
   "source": [
    "In the field of software testing, the analysis of audio has historical been an obscure area, reserved only to audio signal processing engineers; however, it has become of recent interest because of the proposal of [inaQt's audio plugin](https://www.qitasc.com/articles/20180326-AudioPlugin). This tool is able to compute, among other things, audiofingerprints from recordings to find matches between the content/advertisement and the current audio being played by the streaming/podcast. The problem? It requires a license to be used, which is not bad, but can't be used for educational purposes.\n",
    "\n",
    "What's audio fingerprinting anyways? Let's study first how audio is produced and how the different frequencies that compose it can be visualized..."
   ]
  },
  {
   "cell_type": "markdown",
   "metadata": {},
   "source": [
    "---\n",
    "<a rel=\"license\" href=\"http://creativecommons.org/licenses/by-nc-nd/4.0/\"><img alt=\"Licencia de Creative Commons\" style=\"border-width:0\" src=\"https://i.creativecommons.org/l/by-nc-nd/4.0/88x31.png\" /></a><br/>Este obra está bajo una <a rel=\"license\" href=\"http://creativecommons.org/licenses/by-nc-nd/4.0/\">licencia de Creative Commons Reconocimiento-NoComercial-SinObraDerivada 4.0 Internacional</a>. El sitio [juanfonsecasolis.github.io](https://juanfonsecasolis.github.io) es un blog dedicado a la investigación independiente en temas relacionados al procesamiento digital de señales. Para reutilizar este artículo y citar las fuente por favor utilice el siguiente Bibtex:\n",
    "\n",
    "```\n",
    "@online{Fonseca2021,\n",
    "  author = {Juan M. Fonseca-Solís},\n",
    "  title = {Audio fingerprinting for streamings and podcasts testing},\n",
    "  year = 2021,\n",
    "  url = {https://juanfonsecasolis.github.io/blog/JFonseca.audiofingerprintingForAudioTesting.html},\n",
    "  urldate = {}\n",
    "}\n",
    "```"
   ]
  }
 ],
 "metadata": {
  "kernelspec": {
   "display_name": "Python 3",
   "language": "python",
   "name": "python3"
  },
  "language_info": {
   "codemirror_mode": {
    "name": "ipython",
    "version": 3
   },
   "file_extension": ".py",
   "mimetype": "text/x-python",
   "name": "python",
   "nbconvert_exporter": "python",
   "pygments_lexer": "ipython3",
   "version": "3.8.10"
  }
 },
 "nbformat": 4,
 "nbformat_minor": 4
}
