{
 "cells": [
  {
   "cell_type": "markdown",
   "id": "fe006c80-7f85-457c-b977-69d343aeab89",
   "metadata": {},
   "source": [
    "# La corona en la imagen de Nuestra Señora de Guadalupe\n",
    "\n",
    "<a href=\"https://juanfonsecasolis.github.io/\">Juan M. Fonseca-Solís</a> · Julio 2025 · lectura de 15 min\n",
    "\n",
    "---\n",
    "\n",
    "## Resumen\n",
    "TBD...\n",
    "\n",
    "## Introducción\n",
    "TBD...\n",
    "\n",
    "## Objetivos\n",
    "\n",
    "General:\n",
    "* Determinar si el arco de la constelación Corona Borealis tiene doce estrellas, como sugiere el texto de Apocalipsis 12, 1-2.\n",
    "\n",
    "Específicos:\n",
    "* Encontrar el nombre de las estrellas ubicadas en el arco de la constelación Corona Borealis.\n",
    "* Identificar la magnitud aparente de las estrellas del arco de la Corona Borealis y determinar si es variable en el tiempo.\n",
    "* Identificar cuáles de las estrellas visibles en el arco de la Corona Borealis son estrellas múltiples."
   ]
  },
  {
   "cell_type": "markdown",
   "id": "e55271b9-f0d1-4a46-983d-7ab8015bb631",
   "metadata": {},
   "source": [
    "## Estado de la cuestión\n",
    "\n",
    "### Referencias teológicas\n",
    "\n",
    "De acuerdo a Chavez, nuestra Señora de Guadalupe es la inculturación indígena de la madre de Nuestro Señor Jesucristo en el Cristianismo. Chavez cita a Sanchez sobre la iconografía de la Virgen de Guadalupe: \"ella es la mujer de Apocalipsis 12, 1-2\" [1, 3]:\n",
    "\n",
    "> \"_1. Y apareció en el cielo un gran signo: una Mujer revestida del sol, con la luna bajo sus pies y una corona de doce estrellas en su cabeza._\"\n",
    "> \n",
    "> \"_2. Estaba embarazada y gritaba de dolor porque iba a dar a luz._\". \n",
    "\n",
    "Los argumentos presentados son los siguientes [4, 5].\n",
    "* Su aparición en 1531 d.C. corresponde cronológicamente a la señal pedida por el obispo Fray Juan de Zumarraga al indígena chichimeca San Juan Diego Cuauhtlatoatzin [8];\n",
    "* En la iconografía se observa que (i) está rodeada por rayos de sol, (ii) tiene la luna debajo de sus pies, y (iii) su manto está lleno de estrellas y la rodean nubes (indicando que viene del cielo);\n",
    "* Aunque la corona de estrellas no es visible en la imagen, los estudios de Ojeda et al. muestran que la constelación Corona Borealis está reflejada en el manto sobre su cabeza, en el mismo ángulo de inclinación de su rostro [2];\n",
    "* De acuerdo a la interpretación indígena del mundo, es virgen, pues su cabello está suelto, y se encuentra embarazada pues porta un lazo negro sobre su vientre [9].\n",
    "* Su aparición fue del 9 al 12 de Diciembre, es decir, en tiempo litúrgico de Adviento, donde la Iglesia se prepara para celebrar el nacimiento del Señor [6]."
    ]
  },
  {
   "cell_type": "markdown",
   "id": "bbff0f8a-169f-49c6-9845-7116c97d8cb1",
   "metadata": {},
   "source": [
    "### Referencias científicas\n",
    "\n",
    "Ojeda et al. determinaron científicamente que la posición de las 46 estrellas del manto de la Virgen guarda una correlación del 97,75% con doce de las constelaciones visibles en el cielo de la Ciudad de México al momento de la impregnación un 12 de Diciembre de 1531 a las 6:45 am. En este estudio también se confirma que las estrellas del manto están ubicadas de forma inversa, es decir, como se verían desde el espacio hacia la Tierra. El método que emplearon fue el siguiente. Primero, obtuvieron cuatro planisferios del cielo de la Ciudad de México (en la fecha y hora indicadas) utilizando cuatro planetarios electrónicos distintos (Redshift 7, Redshift 8, Stellarium y World Wide Telescope). Segundo, aplicaron una proyección de Mercator a los planisferios para convertirlos de un espacio curvo a uno plano que permitiera su comparación con la imagen de la Virgen. Tercero, calcularon la distancia en grados (declinación) y horas-minutos-segundos (ascensión recta) entre los pares adyacentes de estrellas en cada constelación. Cuarto, usando el Mercator y las distancias en grados entre las estrellas, estimaron la distancia lineal aproximada en kilómetros. Quinto, respecto de un punto de origen, anotaron las coordenadas de las estrellas de la imagen de la Virgen en milímetros. Sexto, aplicaron el método de [correlación de Pearson](https://es.wikipedia.org/wiki/Coeficiente_de_correlaci%C3%B3n_de_Pearson) a las distancias normalizadas mediante una escala para convertir kilómetros a milímetros [2].\n",
    "\n",
    "#### Cálculo de las distancias entre los pares adyacentes de estrellas\n",
    "Breve introducción a la astronomía...\n",
    "\n",
    "#### Método de correlación de Pearson\n",
    "Breve introducción a la astronomía...\n",
    "\n",
    "## Metodología\n",
    "TBD...\n",
    "\n",
    "## Resultados\n",
    "TBD...\n",
    "\n",
    "## Conclusiones y trabajo futuro\n",
    "TBD...\n",
    "\n",
    "## Referencias\n",
    "1. El libro del pueblo de Dios, la Biblia. Traducción argentina. 1990. Libreria Editrice Vaticana. URL: https://www.vatican.va/archive/ESL0506/__P118.HTM (última vez consultado el 02 de Agosto de 2025).\n",
    "\n",
    "2. David R. Ojeda, Daniel E. Ojeda. Estrellas en el Manto de la Virgen de Guadalupe. Congreso XX Aniversario San Juan Diego, Instituto Superio de Estudios Guadalupanos (ISEG), Mérida. Plaza Mariana, Basílica de Guadalupe, Ciudad de México. 30 de julio 2022. URL: https://www.youtube.com/watch?v=KoA6lLjcR-A (última vez consultado el 02 de Agosto de 2025).\n",
    "\n",
    "3. Eduardo Chávez. Santa María de Guadalupe, la gran Señal, Mujer del Apocalipsis #2. Instituto Superior de Estudios Guadalupanos ISEG. URL: https://www.facebook.com/share/v/1986EJaU2g/ (última vez consultado el 02 de Agosto de 2025).\n",
    "\n",
    "4. Eduardo Chávez. Santa María de Guadalupe, la gran Señal, Mujer del Apocalipsis #3. Instituto Superior de Estudios Guadalupanos ISEG. URL: https://www.facebook.com/share/v/19wcSLwrf9/ (última vez consultado el 02 de Agosto de 2025).\n",
    "\n",
    "5. Miguel Chavez. 1648.\n",
    "\n",
    "6. Eduardo Chávez. Santa María de Guadalupe, la gran Señal, Mujer del Apocalipsis #4. Instituto Superior de Estudios Guadalupanos ISEG. URL: https://www.facebook.com/share/v/19ZifbUZEv/ (última vez consultado el 02 de Agosto de 2025).\n",
    "\n",
    "7. Eduardo Chávez. Santa María de Guadalupe, la gran Señal, Mujer del Apocalipsis #5. Instituto Superior de Estudios Guadalupanos ISEG. URL: https://www.facebook.com/share/v/16d1YZskde/ (última vez consultado el 02 de Agosto de 2025).\n",
    "\n",
    "8. Eduardo Chávez. ¿Por qué canonizaron a Juan Diego?. Catholic.net. URL: https://es.catholic.net/op/articulos/8098/cat/913/por-que-canonizaron-a-juan-diego.html (última vez consultado el 02 de Agosto de 2025).\n",
    "\n",
    "9. Gabriela Treviño. La Virgen de Guadalupe para los invidentes. URL: https://www.morenita.tv/noticiainvidentes.html (última vez consultado el 02 de Agosto de 2025).\n",
    "\n",
    "10. Ojeda Llanes, F. (2012) Las constelaciones en la imagen de la Virgen de Guadalupe. Instituto de Estudios Guadalupanos. Libro."
   ]
  },
  {
   "cell_type": "markdown",
   "id": "34500aa3-46d6-4bcd-91a7-0d157dde448c",
   "metadata": {
    "jp-MarkdownHeadingCollapsed": true
   },
   "source": [
    "---\n",
    "<a rel=\"license\" href=\"http://creativecommons.org/licenses/by-nc-nd/4.0/\"><img alt=\"Licencia de Creative Commons\" style=\"border-width:0\" src=\"https://i.creativecommons.org/l/by-nc-nd/4.0/88x31.png\" /></a><br/>Este obra está bajo una <a rel=\"license\" href=\"http://creativecommons.org/licenses/by-nc-nd/4.0/\">licencia de Creative Commons Reconocimiento-NoComercial-SinObraDerivada 4.0 Internacional</a>. El sitio [juanfonsecasolis.github.io](https://juanfonsecasolis.github.io) es un blog dedicado a la investigación independiente en temas relacionados al procesamiento digital de señales. Para reutilizar este artículo y citar las fuente por favor utilice el siguiente Bibtex:\n",
    "\n",
    "```\n",
    "@online{Fonseca2025,\n",
    "  author = {Juan M. Fonseca-Solís},\n",
    "  title = {La corona en la imagen de Nuestra Señora de Guadalupe},\n",
    "  year = 2025,\n",
    "  url = {https://juanfonsecasolis.github.io/blog/JFonseca.coronaNuestraSenioraGuadalupe.html},\n",
    "  urldate = {}\n",
    "}\n",
    "```"
   ]
  }
 ],
 "metadata": {
  "kernelspec": {
   "display_name": "Python 3 (ipykernel)",
   "language": "python",
   "name": "python3"
  },
  "language_info": {
   "codemirror_mode": {
    "name": "ipython",
    "version": 3
   },
   "file_extension": ".py",
   "mimetype": "text/x-python",
   "name": "python",
   "nbconvert_exporter": "python",
   "pygments_lexer": "ipython3",
   "version": "3.12.3"
  }
 },
 "nbformat": 4,
 "nbformat_minor": 5
}
