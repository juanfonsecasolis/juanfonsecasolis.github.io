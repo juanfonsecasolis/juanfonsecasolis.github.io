{
 "cells": [
  {
   "cell_type": "markdown",
   "metadata": {},
   "source": [
    "# Pruebas sobre especificaciones formales de requerimientos\n",
    "\n",
    "[Juan M. Fonseca-Solís](https://juanfonsecasolis.github.io) · Diciembre 2020 · 5 min read\n",
    "\n",
    "---\n",
    "\n",
    "## Resumen\n",
    "A diferencia del resto de artículos de este blog, el presente ipython notebook no contiene ningún componente original, sino que pretendemos simplemente rescatar el concepto de pruebas sobre especificaciones formales de requerimientos. Un tipo de pruebas que permite probar software como si fuera una demostración matemática."
   ]
  },
  {
   "cell_type": "markdown",
   "metadata": {},
   "source": [
    "# Motivación\n",
    "\n",
    "En una ocasión nuestro dueño del producto compartió una inquietud como la que sigue:\n",
    "\n",
    "> Hey Juan. I understood this problem was also related to a piece of code that failed previously while moving data from one container to another, and the team has spent a lot of time recently improving the failing program. Are we completely confident the teams update/changes fixed the root cause of this issue? Can we prove that in any way?\n",
    "\n",
    "Una primera leída me hizo darme cuenta de que era imposible responder esta pregunta afirmativamente, pues el software que estabamos diseñando no había seguido una especificación formal de requerimientos, y entonces no podíamos probar como si fuese una demostración matemática que el programa estuviera funcionando correctamente. Lo único que podíamos hacer era proveer evidencia de que sí, tal cual se hace con una prueba estadística: \"con un grado de certeza del 90%, podemos decir que el programa hace lo que debería\". ¿Pero, qué esto de especificaciones formales de requerimientos?"
   ]
  },
  {
   "cell_type": "markdown",
   "metadata": {},
   "source": [
    "# Especificación formal de requerimientos\n",
    "\n",
    "Continuará..."
   ]
  },
  {
   "cell_type": "markdown",
   "metadata": {},
   "source": [
    "---\n",
    "<a rel=\"license\" href=\"http://creativecommons.org/licenses/by-nc-nd/4.0/\"><img alt=\"Licencia de Creative Commons\" style=\"border-width:0\" src=\"https://i.creativecommons.org/l/by-nc-nd/4.0/88x31.png\" /></a><br/>Este obra está bajo una <a rel=\"license\" href=\"http://creativecommons.org/licenses/by-nc-nd/4.0/\">licencia de Creative Commons Reconocimiento-NoComercial-SinObraDerivada 4.0 Internacional</a>. El sitio [juanfonsecasolis.github.io](https://juanfonsecasolis.github.io) es un blog dedicado a la investigación independiente en temas relacionados al procesamiento digital de señales. Para reutilizar este artículo y citar las fuente por favor utilice el siguiente Bibtex:\n",
    "\n",
    "```\n",
    "@online{Fonseca2020,\n",
    "  author = {Juan M. Fonseca-Solís},\n",
    "  title = {Pruebas sobre especificaciones formales de requerimientos},\n",
    "  year = 2020,\n",
    "  url = {https://juanfonsecasolis.github.io/blog/JFonseca.pruebasFormalesSoftware.html},\n",
    "  urldate = {}\n",
    "}\n",
    "```"
   ]
  },
  {
   "cell_type": "code",
   "execution_count": null,
   "metadata": {},
   "outputs": [],
   "source": []
  }
 ],
 "metadata": {
  "kernelspec": {
   "display_name": "Python 3",
   "language": "python",
   "name": "python3"
  },
  "language_info": {
   "codemirror_mode": {
    "name": "ipython",
    "version": 3
   },
   "file_extension": ".py",
   "mimetype": "text/x-python",
   "name": "python",
   "nbconvert_exporter": "python",
   "pygments_lexer": "ipython3",
   "version": "3.8.5"
  }
 },
 "nbformat": 4,
 "nbformat_minor": 4
}
