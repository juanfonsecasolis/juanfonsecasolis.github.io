{
 "cells": [
  {
   "cell_type": "markdown",
   "metadata": {},
   "source": [
    "# Quality of service for audio and video streaming over Internet\n",
    "\n",
    "<a href=\"https://juanfonsecasolis.github.io/\">Juan M. Fonseca-Solís</a> · December 2020 · 5 min read\n",
    "\n",
    "---\n",
    "\n",
    "## Summary\n",
    "\n",
    "Nowadays communication would be unimaginable without the help of streaming platforms like Zoom, MSTeams or Skype, which allow to transmit audio and video over the Internet at convenient low bitrates. However, no software is yet able to fix transmissions corrupted from the source; that is, when the device that is capturing the audio or video is sending the information at lower bitrates than the minimum supported by the compressing algorithm. In this case, it doesn't matter if your are Pavaroti, your friends over the phone will hear your voice like being performed inside a bottle with a mixture of noise and delays. This can happen, for instance, when you are broadcasting your christmas concert from home using two devices connected to the same ADSL line. Luckily there are commercial tools that allow to catch this kind of issues, and we have for instance the POLQA algorithm for audio or the SIMM algorithm for video. In this iPython notebook we will explore how these two algorithm allow to compute the _quality of service_ (QoS) of a transmission using a scale called _Mean Opinion Score_ (MOS) and how customers can benefit of this information to improve their service."
   ]
  },
  {
   "cell_type": "markdown",
   "metadata": {},
   "source": [
    "To be defined..."
   ]
  },
  {
   "cell_type": "markdown",
   "metadata": {},
   "source": [
    "## References\n",
    "1. https://www.ssimwave.com/careers/\n",
    "2. https://en.wikipedia.org/wiki/Structural_similarity\n",
    "3. https://videoclarity.com/videoqualityanalysis/\n",
    "4. https://link.springer.com/chapter/10.1007/978-1-4302-6713-3_4\n",
    "5. https://aveq.info/solutions/video-quality-measurement/\n",
    "6. https://kafka.apache.org/"
   ]
  },
  {
   "cell_type": "code",
   "execution_count": null,
   "metadata": {},
   "outputs": [],
   "source": []
  }
 ],
 "metadata": {
  "kernelspec": {
   "display_name": "Python 3",
   "language": "python",
   "name": "python3"
  },
  "language_info": {
   "codemirror_mode": {
    "name": "ipython",
    "version": 3
   },
   "file_extension": ".py",
   "mimetype": "text/x-python",
   "name": "python",
   "nbconvert_exporter": "python",
   "pygments_lexer": "ipython3",
   "version": "3.8.5"
  }
 },
 "nbformat": 4,
 "nbformat_minor": 4
}
