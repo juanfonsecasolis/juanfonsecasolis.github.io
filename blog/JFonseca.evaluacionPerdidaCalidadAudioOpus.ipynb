{
 "cells": [
  {
   "cell_type": "markdown",
   "metadata": {},
   "source": [
    "# Evaluación de la pérdida de calidad del audio usando el codec OPUS\n",
    "\n",
    "<a href=\"https://juanfonsecasolis.github.io/\">Juan M. Fonseca-Solís</a> · Agosto 2020 · 5 min read\n",
    "\n",
    "---\n",
    "\n",
    "## Resumen\n",
    "\n",
    "La comunicación en la actualidad sería impensable sin el uso de codecs de audio digital para reducir el consumo del ancho de banda en las transmisiones de voz y música. Estos codecs utilizan algoritmos de compresión y limpieza del ruido para eliminar información del audio que el oído humano no escucha tan bien, para ello se utiliza un concepto llamado _bandas críticas_. Sin embargo, esta habilidad de compresión es precisamente una limitante para los sistemas de telemedicina que usan estetoscópios digitales, pues estos requieren analizar el audio sin pérdida de información. En este ipython notebook estudiamos la pérdida de la calidad del audio producida por el codec OPUS al analizar sonidos producidos por el corazón o los pulmones. Los resultados están aún por determinarse..."
   ]
  },
  {
   "cell_type": "markdown",
   "metadata": {},
   "source": [
    "## Introducción al códec OPUS\n",
    "\n",
    "Código abierto, frecuencia de muestreo de 8kHz a 48kHz, soporta voz y música [3]...\n",
    "\n",
    "### Modos\n",
    "Modo SILK para voz, CELT para música y voz de alta calidad, e híbrido [3]...\n",
    "\n",
    "### Psicoacústica\n",
    "\n",
    "Transformada Discreta del Coseno Modificada (MDCT) y escala similar a Bark para enmascaramiento y preservación de la envolvente espectral. Ventana de análisis similar a la Hann o Hamming [3]...\n",
    "\n",
    "### Rendimiento\n",
    "Alta calidad desde el bitrate 8 kHz hasta 128 kHz [3]...\n"
   ]
  },
  {
   "cell_type": "markdown",
   "metadata": {},
   "source": [
    "# Referencias\n",
    "1. Colaboradores de Wikipedia. Códec de audio [en línea]. Wikipedia, La enciclopedia libre, 2020 [fecha de consulta: 4 de noviembre del 2020]. Disponible en <https://es.wikipedia.org/w/index.php?title=C%C3%B3dec_de_audio&oldid=129362034>. \n",
    "2. Hong  Kong  Polytechnic  University. Department of Electronic and Information Engineering. Perceptual Coding and MP3. Disponible en <http://www.eie.polyu.edu.hk/~enyhchan/DAP-lab-PModel-v3.pdf>.\n",
    "3. López Monfort José Javier. Opus codec | 22/23 | UPV. Universitat Politècnica de València - UPV. Disponible en <https://youtu.be/2-yv1bCDL94>. "
   ]
  },
  {
   "cell_type": "markdown",
   "metadata": {},
   "source": [
    "---\n",
    "<a rel=\"license\" href=\"http://creativecommons.org/licenses/by-nc-nd/4.0/\"><img alt=\"Licencia de Creative Commons\" style=\"border-width:0\" src=\"https://i.creativecommons.org/l/by-nc-nd/4.0/88x31.png\" /></a><br/>Este obra está bajo una <a rel=\"license\" href=\"http://creativecommons.org/licenses/by-nc-nd/4.0/\">licencia de Creative Commons Reconocimiento-NoComercial-SinObraDerivada 4.0 Internacional</a>. El sitio [juanfonsecasolis.github.io](https://juanfonsecasolis.github.io) es un blog dedicado a la investigación independiente en temas relacionados al procesamiento digital de señales. Para reutilizar este artículo y citar las fuente por favor utilice el siguiente Bibtex:\n",
    "\n",
    "```\n",
    "@online{Fonseca2020,\n",
    "  author = {Juan M. Fonseca-Solís},\n",
    "  title = { Pruebas por pares o pairwise testing},\n",
    "  year = 2020,\n",
    "  url = {https://juanfonsecasolis.github.io/blog/JFonseca.pairwisetesting.html},\n",
    "  urldate = {}\n",
    "}\n",
    "```"
   ]
  },
  {
   "cell_type": "code",
   "execution_count": null,
   "metadata": {},
   "outputs": [],
   "source": []
  }
 ],
 "metadata": {
  "kernelspec": {
   "display_name": "Python 3",
   "language": "python",
   "name": "python3"
  },
  "language_info": {
   "codemirror_mode": {
    "name": "ipython",
    "version": 3
   },
   "file_extension": ".py",
   "mimetype": "text/x-python",
   "name": "python",
   "nbconvert_exporter": "python",
   "pygments_lexer": "ipython3",
   "version": "3.8.5"
  }
 },
 "nbformat": 4,
 "nbformat_minor": 4
}
