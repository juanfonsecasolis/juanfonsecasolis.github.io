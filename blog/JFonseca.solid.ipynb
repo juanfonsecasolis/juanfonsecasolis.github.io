{
 "cells": [
  {
   "cell_type": "markdown",
   "id": "992f4b95-acdd-463e-9b8a-4daf891dd062",
   "metadata": {},
   "source": [
    "# Principios SOLID\n",
    "<a href=\"https://juanfonsecasolis.github.io/\">Juan M. Fonseca-Solís</a> · March 2025 · 10 min read\n",
    "\n",
    "---\n",
    "\n",
    "## Abstract\n",
    "Acrónimo empleado en programación orientada a objetos y tema infaltable en las entrevistas de trabajo sobre automatización de pruebas, en este cuaderno de ipython repasamos el significado de los patrones de diseño SOLID y los relacionamos a los principios de programación orientada a objetos (OOP, por sus siglas en inglés).\n",
    "\n",
    "## Introducción\n",
    "En el campo de la automatización de pruebas de software se busca que los scripts sean mantenibles, escalables y fáciles de entender, y estos atributos pueden lograse siguiendo un conjunto de patrones de diseño que describe SOLID, un acrónimo acuñado por Robert C. Martin en el 2000, cuyos principios son los siguientes [1]:\n",
    "\n",
    "* S - Responsabilidad única (_single responsibility_).\n",
    "* O - Abierto-cerrado (_Open-closed_).\n",
    "* L - Sustitución de Liskov (_Liskov substitution_).\n",
    "* I - Segregación de la interfaz (_Interface segregation_).\n",
    "* D - Inversión de la dependencia (_Dependency inversion_).\n",
    "\n",
    "Como a mi me enseñaron otros principios mientras estaba estudiando programación orientada a objetos: herencia, polimorfismo, encapsulación y abstracción, y \"alta cohesión y bajo acoplamiento\"(GRASP) [2], intentaré relacionarlos."
   ]
  },
  {
   "cell_type": "markdown",
   "id": "c446268c-1060-4602-9f05-878f9de7f739",
   "metadata": {},
   "source": [
    "## Responsabilidad única\n",
    "Alta cohesión, una sola función por clase y la clase debe cambiar solo si esa función cambia. Necesaria para implementar encapsulamiento."
   ]
  },
  {
   "cell_type": "markdown",
   "id": "66ff4430-9554-46e0-bb90-efd94352aae8",
   "metadata": {},
   "source": [
    "## Abierto-cerrado\n",
    "Una entidad de software (clase, método o función) debe quedar abierta para extender su funcionalidad en clases hijas pero cerrada para su modificación en la clase padre. Necesaria para implementar polimorfismo (el código de la clase TestBase o PageBase no cambia)."
   ]
  },
  {
   "cell_type": "markdown",
   "id": "5ecd6fd3-cf2f-40a1-89ca-e9487e96084d",
   "metadata": {},
   "source": [
    "## Sustitución de Liskov\n",
    "..."
   ]
  },
  {
   "cell_type": "markdown",
   "id": "47cc31c8-d078-4865-81f4-580d2dc6aa52",
   "metadata": {},
   "source": [
    "## Segregación de la interfaz\n",
    "..."
   ]
  },
  {
   "cell_type": "markdown",
   "id": "2c6b7fbd-7a37-4d6c-b1eb-c0c0c82edde8",
   "metadata": {},
   "source": [
    "##  Inversión de la dependencia\n",
    "..."
   ]
  },
  {
   "cell_type": "markdown",
   "id": "0c5122b7-645d-44f6-8e72-7c790409ad10",
   "metadata": {},
   "source": [
    "## References\n",
    "1. SOLID. (2024, 9 de enero). Wikipedia, La enciclopedia libre. Fecha de consulta: 13:10, enero 9, 2024 desde https://es.wikipedia.org/w/index.php?title=SOLID&oldid=156873545.\n",
    "2. GRASP. (2024, 7 de diciembre). Wikipedia, La enciclopedia libre. Fecha de consulta: 15:17, diciembre 7, 2024 desde https://es.wikipedia.org/w/index.php?title=GRASP&oldid=163990059.\n",
    "3. Anton Angelov. Automated Testing Unleashed : Automated Testing Engineering Fundamentals: The Complete Handbook Volume 1. Automate the Planet."
   ]
  },
  {
   "cell_type": "markdown",
   "id": "3f146d83-cecb-4047-9613-4abe52b84fa5",
   "metadata": {},
   "source": [
    "---\n",
    "<a rel=\"license\" href=\"http://creativecommons.org/licenses/by-nd/4.0/\"><img alt=\"licencia Creative Commons\" style=\"border-width:0\" src=\"img/80x15_by-nd.png\" /></a><p style=\"text-align: center;\"> This work is under a <a rel=\"license\" href=\"http://creativecommons.org/licenses/by-nd/4.0/\">Creative Commons Atribución 4.0 Internacional license</a>. The website <a href=\"https://juanfonsecasolis.github.io/\">juanfonsecasolis.github.io</a> It is a Costa Rican blog dedicated to independent research on issues related to my computer science and math. To reuse this article and cite the source you can use Bibtex:</p>\n",
    "```\n",
    "@online{Fonseca2025,\n",
    "  author = {Juan M. Fonseca-Solís},\n",
    "  title = { Principios SOLID },\n",
    "  year = 2025,\n",
    "  url = {https://juanfonsecasolis.github.io/blog/JFonseca.solid.html},\n",
    "  urldate = {}\n",
    "}\n",
    "```"
   ]
  }
 ],
 "metadata": {
  "kernelspec": {
   "display_name": "Python 3 (ipykernel)",
   "language": "python",
   "name": "python3"
  },
  "language_info": {
   "codemirror_mode": {
    "name": "ipython",
    "version": 3
   },
   "file_extension": ".py",
   "mimetype": "text/x-python",
   "name": "python",
   "nbconvert_exporter": "python",
   "pygments_lexer": "ipython3",
   "version": "3.13.0"
  }
 },
 "nbformat": 4,
 "nbformat_minor": 5
}
