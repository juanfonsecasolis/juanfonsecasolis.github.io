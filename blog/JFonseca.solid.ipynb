{
 "cells": [
  {
   "cell_type": "markdown",
   "id": "992f4b95-acdd-463e-9b8a-4daf891dd062",
   "metadata": {},
   "source": [
    "# Principios SOLID\n",
    "<a href=\"https://juanfonsecasolis.github.io/\">Juan M. Fonseca-Solís</a> · March/April 2025 · 10 min read\n",
    "\n",
    "---\n",
    "\n",
    "## Resumen\n",
    "Con cada iteración de la metodología de trabajo SCRUM, el equipo de desarrollo de software incorpora funcionalidad inédita a la aplicación (cada dos semanas, normalmente); a su vez, el equipo de prueba se asegura que esa funcionalidad cuente con scripts de automatización de pruebas recientes y que los scripts de iteraciones antiguas sigan funcionando correctamente (pruebas de regresión). Este proceso incremental puede generar mucho trabajo (hasta 50 iteraciones, en algunos proyectos) y una de las maneras de manejar este volumen es procurando que los scripts sean mantenibles y escalables en el tiempo. Para ello, se utilizan cuatro patrones de diseño \"SOLID\" que pretenden lograr \"alta cohesión y bajo acoplamiento\" entre los componentes (GRASP) del sistema [1, 2]:\n",
    "\n",
    "* S - Responsabilidad única (_single responsibility_).\n",
    "* O - Abierto-cerrado (_Open-closed_).\n",
    "* L - Sustitución de Liskov (_Liskov substitution_).\n",
    "* I - Segregación de la interfaz (_Interface segregation_).\n",
    "* D - Inversión de la dependencia (_Dependency inversion_).\n",
    "\n",
    "Aunque usualmente la relación no se hace explícita, estos patrones de diseño también están relacionados a cuatro principios de programación orientada a objetos (OOP, por sus siglas en inglés) llamados: herencia, polimorfismo, encapsulación y abstracción. En este ipython notebook no dimos a la tarea de relacionarlos."
   ]
  },
  {
   "cell_type": "markdown",
   "id": "c446268c-1060-4602-9f05-878f9de7f739",
   "metadata": {},
   "source": [
    "## Responsabilidad única\n",
    "Cada componente de software (clase, método o función) es diseñado para ejecutar una sola función. Responsabilidad-única es una condición necesaria para implementar el principio de encapsulamiento y lograr alta cohesión entre los componentes."
   ]
  },
  {
   "cell_type": "markdown",
   "id": "66ff4430-9554-46e0-bb90-efd94352aae8",
   "metadata": {},
   "source": [
    "## Abierto-cerrado\n",
    "Cada componente de software está abierto para extender su funcionalidad pero cerrado para su modificación. Esto se cumple en el principio de polimorfismo, donde la funcionalidad de una clase padre (por ejemplo, TestBase o PageBase) se escribe idealmente una sola vez y las clases hijas agregan atributos y rutinas nuevas."
   ]
  },
  {
   "cell_type": "markdown",
   "id": "5ecd6fd3-cf2f-40a1-89ca-e9487e96084d",
   "metadata": {},
   "source": [
    "## Sustitución de Liskov\n",
    "..."
   ]
  },
  {
   "cell_type": "markdown",
   "id": "47cc31c8-d078-4865-81f4-580d2dc6aa52",
   "metadata": {},
   "source": [
    "## Segregación de la interfaz\n",
    "..."
   ]
  },
  {
   "cell_type": "markdown",
   "id": "2c6b7fbd-7a37-4d6c-b1eb-c0c0c82edde8",
   "metadata": {},
   "source": [
    "##  Inversión de la dependencia\n",
    "..."
   ]
  },
  {
   "cell_type": "markdown",
   "id": "8e57ddce",
   "metadata": {},
   "source": [
    "## Conclusiones\n",
    "..."
   ]
  },
  {
   "cell_type": "markdown",
   "id": "0c5122b7-645d-44f6-8e72-7c790409ad10",
   "metadata": {},
   "source": [
    "## Referencias\n",
    "1. SOLID. (2024, 9 de enero). Wikipedia, La enciclopedia libre. Fecha de consulta: 13:10, enero 9, 2024 desde https://es.wikipedia.org/w/index.php?title=SOLID&oldid=156873545.\n",
    "2. GRASP. (2024, 7 de diciembre). Wikipedia, La enciclopedia libre. Fecha de consulta: 15:17, diciembre 7, 2024 desde https://es.wikipedia.org/w/index.php?title=GRASP&oldid=163990059.\n",
    "3. Anton Angelov. Automated Testing Unleashed : Automated Testing Engineering Fundamentals: The Complete Handbook Volume 1. Automate the Planet."
   ]
  },
  {
   "cell_type": "markdown",
   "id": "3f146d83-cecb-4047-9613-4abe52b84fa5",
   "metadata": {},
   "source": [
    "---\n",
    "<a rel=\"license\" href=\"http://creativecommons.org/licenses/by-nd/4.0/\"><img alt=\"licencia Creative Commons\" style=\"border-width:0\" src=\"img/80x15_by-nd.png\" /></a><p style=\"text-align: center;\"> This work is under a <a rel=\"license\" href=\"http://creativecommons.org/licenses/by-nd/4.0/\">Creative Commons Atribución 4.0 Internacional license</a>. The website <a href=\"https://juanfonsecasolis.github.io/\">juanfonsecasolis.github.io</a> It is a Costa Rican blog dedicated to independent research on issues related to my computer science and math. To reuse this article and cite the source you can use Bibtex:</p>\n",
    "```\n",
    "@online{Fonseca2025,\n",
    "  author = {Juan M. Fonseca-Solís},\n",
    "  title = { Principios SOLID },\n",
    "  year = 2025,\n",
    "  url = {https://juanfonsecasolis.github.io/blog/JFonseca.solid.html},\n",
    "  urldate = {}\n",
    "}\n",
    "```"
   ]
  }
 ],
 "metadata": {
  "kernelspec": {
   "display_name": "Python 3 (ipykernel)",
   "language": "python",
   "name": "python3"
  },
  "language_info": {
   "codemirror_mode": {
    "name": "ipython",
    "version": 3
   },
   "file_extension": ".py",
   "mimetype": "text/x-python",
   "name": "python",
   "nbconvert_exporter": "python",
   "pygments_lexer": "ipython3",
   "version": "3.12.3"
  }
 },
 "nbformat": 4,
 "nbformat_minor": 5
}
